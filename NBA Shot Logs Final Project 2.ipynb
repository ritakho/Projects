{
 "cells": [
  {
   "cell_type": "markdown",
   "metadata": {},
   "source": [
    "# <u> 2014-2015 NBA Shot Logs Final Project </u>\n",
    "## By Rita Kho"
   ]
  },
  {
   "cell_type": "code",
   "execution_count": 1,
   "metadata": {
    "collapsed": false
   },
   "outputs": [
    {
     "name": "stdout",
     "output_type": "stream",
     "text": [
      "Populating the interactive namespace from numpy and matplotlib\n"
     ]
    }
   ],
   "source": [
    "\n",
    "import xlrd\n",
    "import numpy as np\n",
    "import pandas as pd\n",
    "import seaborn as sns\n",
    "%pylab inline\n",
    "\n"
   ]
  },
  {
   "cell_type": "markdown",
   "metadata": {},
   "source": [
    "# <u> 1. Data Set Description <u>"
   ]
  },
  {
   "cell_type": "markdown",
   "metadata": {},
   "source": [
    "<ul>\n",
    "<li> <b> df </b>is a dataset of all basketball shots made in 2014-2015 NBA season. Each row is a shot taken during the season. </li>\n",
    "<li> <b> players</b> is a dataset of all players during the 2014-2015 season and their background information. Each row is a player.</li>\n",
    "<li> <b> df2 </b> is the merged dataset between <b> df </b> and <b> players </b>.\n",
    "</ul>"
   ]
  },
  {
   "cell_type": "markdown",
   "metadata": {},
   "source": [
    "Important columns in <b> df </b> are:\n",
    "<ol>\n",
    "<li> LOCATION: If the game was away or home. </li>\n",
    "<li> W or L: If the game resulted in a win or loss. </li>\n",
    "<li> FINAL_MARGIN: The amount of points away from taking the lead when the shot was attempted. </li>\n",
    "<li> PERIOD: The quarter the shot attempt was made. There are 4 quarters, 5 to 7 are overtime </li>\n",
    "<li> GAME_CLOCK: Time left in the game. There are 12 minutes per quarter and the clock ticks down to the end of the quarter. End of quarter is 0 second. </li>\n",
    "<li>SHOT_CLOCK: The time left for the offensive team to shoot. The offensive team is given 24 seconds to attempt a field goal. </li>\n",
    "<li> DRIBBLES: Number of dribbles player make before taking a shot. </li>\n",
    "<li> TOUCH_TIME: How long in seconds the shooting player touched the ball before attempting a shot. </li>\n",
    "<li> SHOT_DIST: Distance of a shot in feet. </li>\n",
    "<li> PTS_TYPE: The type of field goal attempted. 2 or 3 point shots.\n",
    "<li> CLOSE_DEF_DIST: How far away the defener is when shot was attempted in feet. </li>\n",
    "<li> FGM: Field goals made. 1 if shot is made, 0 is missed. </li>\n",
    "\n",
    "\n",
    "</ol>"
   ]
  },
  {
   "cell_type": "markdown",
   "metadata": {},
   "source": [
    "Important columns in <b> players </b> are:\n",
    "<ol>\n",
    "<li> Age: Age of player </li>\n",
    "<li> Experience: Years of experience the player has in the NBA. R stands for rookie, first year. </li>\n",
    "<li> First_Name: First name of shooter </li>\n",
    "<li> Pos: Position of the player. There are 5 positions: Point Guard (PG), Shooting Guard (SG), Center (C), Power Foward (PF), Small Forward (SF) </li>\n",
    "<li> Surname: Last name of shooter </li>\n",
    "\n",
    "\n",
    "</ol>"
   ]
  },
  {
   "cell_type": "code",
   "execution_count": 2,
   "metadata": {
    "collapsed": false
   },
   "outputs": [],
   "source": [
    "df = pd.read_excel('shot_logs.xlsx')\n",
    "players=pd.read_excel('players.xlsx')"
   ]
  },
  {
   "cell_type": "code",
   "execution_count": 5,
   "metadata": {
    "collapsed": false
   },
   "outputs": [
    {
     "data": {
      "text/html": [
       "<div>\n",
       "<table border=\"1\" class=\"dataframe\">\n",
       "  <thead>\n",
       "    <tr style=\"text-align: right;\">\n",
       "      <th></th>\n",
       "      <th>GAME_ID</th>\n",
       "      <th>MATCHUP</th>\n",
       "      <th>LOCATION</th>\n",
       "      <th>W or L</th>\n",
       "      <th>FINAL_MARGIN</th>\n",
       "      <th>SHOT_NUMBER</th>\n",
       "      <th>PERIOD</th>\n",
       "      <th>GAME_CLOCK</th>\n",
       "      <th>SHOT_CLOCK</th>\n",
       "      <th>DRIBBLES</th>\n",
       "      <th>...</th>\n",
       "      <th>SHOT_DIST</th>\n",
       "      <th>PTS_TYPE</th>\n",
       "      <th>SHOT_RESULT</th>\n",
       "      <th>CLOSEST_DEFENDER</th>\n",
       "      <th>CLOSEST_DEFENDER_PLAYER_ID</th>\n",
       "      <th>CLOSE_DEF_DIST</th>\n",
       "      <th>FGM</th>\n",
       "      <th>PTS</th>\n",
       "      <th>player_name</th>\n",
       "      <th>player_id</th>\n",
       "    </tr>\n",
       "  </thead>\n",
       "  <tbody>\n",
       "    <tr>\n",
       "      <th>0</th>\n",
       "      <td>21400899</td>\n",
       "      <td>MAR 04, 2015 - CHA @ BKN</td>\n",
       "      <td>A</td>\n",
       "      <td>W</td>\n",
       "      <td>24</td>\n",
       "      <td>1</td>\n",
       "      <td>1</td>\n",
       "      <td>01:09:00</td>\n",
       "      <td>10.8</td>\n",
       "      <td>2</td>\n",
       "      <td>...</td>\n",
       "      <td>7.7</td>\n",
       "      <td>2</td>\n",
       "      <td>made</td>\n",
       "      <td>Anderson, Alan</td>\n",
       "      <td>101187</td>\n",
       "      <td>1.3</td>\n",
       "      <td>1</td>\n",
       "      <td>2</td>\n",
       "      <td>brian roberts</td>\n",
       "      <td>203148</td>\n",
       "    </tr>\n",
       "  </tbody>\n",
       "</table>\n",
       "<p>1 rows × 21 columns</p>\n",
       "</div>"
      ],
      "text/plain": [
       "    GAME_ID                   MATCHUP LOCATION W or L  FINAL_MARGIN  \\\n",
       "0  21400899  MAR 04, 2015 - CHA @ BKN        A      W            24   \n",
       "\n",
       "   SHOT_NUMBER  PERIOD GAME_CLOCK  SHOT_CLOCK  DRIBBLES    ...     SHOT_DIST  \\\n",
       "0            1       1   01:09:00        10.8         2    ...           7.7   \n",
       "\n",
       "   PTS_TYPE  SHOT_RESULT CLOSEST_DEFENDER CLOSEST_DEFENDER_PLAYER_ID  \\\n",
       "0         2         made   Anderson, Alan                     101187   \n",
       "\n",
       "   CLOSE_DEF_DIST  FGM  PTS    player_name player_id  \n",
       "0             1.3    1    2  brian roberts    203148  \n",
       "\n",
       "[1 rows x 21 columns]"
      ]
     },
     "execution_count": 5,
     "metadata": {},
     "output_type": "execute_result"
    }
   ],
   "source": [
    "df.head(1)"
   ]
  },
  {
   "cell_type": "code",
   "execution_count": 6,
   "metadata": {
    "collapsed": false
   },
   "outputs": [
    {
     "data": {
      "text/html": [
       "<div>\n",
       "<table border=\"1\" class=\"dataframe\">\n",
       "  <thead>\n",
       "    <tr style=\"text-align: right;\">\n",
       "      <th></th>\n",
       "      <th>Age</th>\n",
       "      <th>Birth_Place</th>\n",
       "      <th>Birthdate</th>\n",
       "      <th>Collage</th>\n",
       "      <th>Experience</th>\n",
       "      <th>First_Name</th>\n",
       "      <th>Height</th>\n",
       "      <th>Pos</th>\n",
       "      <th>Surname</th>\n",
       "      <th>Team</th>\n",
       "      <th>Weight</th>\n",
       "      <th>BMI</th>\n",
       "    </tr>\n",
       "  </thead>\n",
       "  <tbody>\n",
       "    <tr>\n",
       "      <th>0</th>\n",
       "      <td>33</td>\n",
       "      <td>mk</td>\n",
       "      <td>1982-07-29</td>\n",
       "      <td>NaN</td>\n",
       "      <td>1</td>\n",
       "      <td>Pero</td>\n",
       "      <td>207.5</td>\n",
       "      <td>PF</td>\n",
       "      <td>Antic</td>\n",
       "      <td>ATL</td>\n",
       "      <td>117.0</td>\n",
       "      <td>27.173755</td>\n",
       "    </tr>\n",
       "  </tbody>\n",
       "</table>\n",
       "</div>"
      ],
      "text/plain": [
       "   Age Birth_Place  Birthdate Collage Experience First_Name  Height Pos  \\\n",
       "0   33          mk 1982-07-29     NaN          1       Pero   207.5  PF   \n",
       "\n",
       "  Surname Team  Weight        BMI  \n",
       "0   Antic  ATL   117.0  27.173755  "
      ]
     },
     "execution_count": 6,
     "metadata": {},
     "output_type": "execute_result"
    }
   ],
   "source": [
    "players.head(1)"
   ]
  },
  {
   "cell_type": "markdown",
   "metadata": {},
   "source": [
    "# <u> 2. Data Preparation </u>"
   ]
  },
  {
   "cell_type": "markdown",
   "metadata": {},
   "source": [
    "Concatenated the first and last names of the players in <b> players </b> dataset, lowercased it, and removed punctuation marks to clean it for the merge."
   ]
  },
  {
   "cell_type": "code",
   "execution_count": 7,
   "metadata": {
    "collapsed": true
   },
   "outputs": [],
   "source": [
    "players['Name']=players.First_Name+ ' ' +players.Surname\n",
    "players['Name']=players['Name'].str.lower()\n",
    "players['Name']=players['Name'].str.replace('.','')"
   ]
  },
  {
   "cell_type": "markdown",
   "metadata": {},
   "source": [
    "Occasionally players are traded to another team during a season. When this happens, most likely they will keep the same positions. In rare instances, the players will have to change positions. In <b> players</b> dataset, only 4 players changed positions during the season. Most of them changed between PG and SG, which are the similar guard positions. This is insignificant so I will only keep the first instance of the players names. "
   ]
  },
  {
   "cell_type": "code",
   "execution_count": 8,
   "metadata": {
    "collapsed": false
   },
   "outputs": [
    {
     "data": {
      "text/plain": [
       "Name\n",
       "austin rivers       2\n",
       "brandon knight      2\n",
       "goran dragic        2\n",
       "quincy pondexter    2\n",
       "aaron brooks        1\n",
       "Name: Pos, dtype: int64"
      ]
     },
     "execution_count": 8,
     "metadata": {},
     "output_type": "execute_result"
    }
   ],
   "source": [
    "players.groupby('Name')['Pos'].nunique().nlargest(5)"
   ]
  },
  {
   "cell_type": "code",
   "execution_count": 9,
   "metadata": {
    "collapsed": false
   },
   "outputs": [
    {
     "data": {
      "text/plain": [
       "204    PG\n",
       "233    SG\n",
       "245    PG\n",
       "262    PG\n",
       "299    SF\n",
       "300    SG\n",
       "368    SG\n",
       "373    SG\n",
       "Name: Pos, dtype: object"
      ]
     },
     "execution_count": 9,
     "metadata": {},
     "output_type": "execute_result"
    }
   ],
   "source": [
    "players.ix[(players.Name=='austin rivers') | (players.Name=='brandon knight') | (players.Name=='goran dragic') | (players.Name=='quincy pondexter'),'Pos']"
   ]
  },
  {
   "cell_type": "code",
   "execution_count": 10,
   "metadata": {
    "collapsed": true
   },
   "outputs": [],
   "source": [
    "players.drop_duplicates(subset='Name', keep='first',inplace=True)"
   ]
  },
  {
   "cell_type": "markdown",
   "metadata": {},
   "source": [
    "Merged <b> df </b> with <b> players </b> by the player's name. "
   ]
  },
  {
   "cell_type": "code",
   "execution_count": 11,
   "metadata": {
    "collapsed": false
   },
   "outputs": [
    {
     "data": {
      "text/plain": [
       "128069"
      ]
     },
     "execution_count": 11,
     "metadata": {},
     "output_type": "execute_result"
    }
   ],
   "source": [
    "df2=df.merge(players,left_on='player_name', right_on='Name', how='left')\n",
    "len(df2)"
   ]
  },
  {
   "cell_type": "markdown",
   "metadata": {},
   "source": [
    "Removed rows that are unnecessary for the analysis and those that are repeated information."
   ]
  },
  {
   "cell_type": "code",
   "execution_count": 12,
   "metadata": {
    "collapsed": true
   },
   "outputs": [],
   "source": [
    "df2.drop(['GAME_ID','MATCHUP','SHOT_NUMBER','SHOT_RESULT','CLOSEST_DEFENDER_PLAYER_ID','PTS','player_name','player_id','Birthdate','Collage','First_Name','Surname','BMI'], axis=1,inplace=True)"
   ]
  },
  {
   "cell_type": "markdown",
   "metadata": {},
   "source": [
    "Since GAME_CLOCK column is a date time string, converted it into integer in seconds. There are 12 minutes per quarter, or 720 seconds. The Excel data has it in hour and minute; should be minute and seconds."
   ]
  },
  {
   "cell_type": "code",
   "execution_count": 13,
   "metadata": {
    "collapsed": true
   },
   "outputs": [],
   "source": [
    "#need to convert game_clock to numeric seconds since it's being read as a string/date_time. excel has it as HH:MM\n",
    "def to_integer(dt_time):\n",
    "    return 60*dt_time.hour+ 1*dt_time.minute"
   ]
  },
  {
   "cell_type": "code",
   "execution_count": 14,
   "metadata": {
    "collapsed": true
   },
   "outputs": [],
   "source": [
    "df2['GAME_CLOCK']=df2['GAME_CLOCK'].apply(to_integer)"
   ]
  },
  {
   "cell_type": "markdown",
   "metadata": {},
   "source": [
    "Added columns to differentiate rookies and foreigners based on years of experience (less than 1 year is a rookie) and those born outside of U.S. are considered foreigners. \n",
    "\n",
    "Also added clutch factor column. Clutch factor are shots made last 2 minutes of the last quarter when the points between the teams are 5 points or less. "
   ]
  },
  {
   "cell_type": "code",
   "execution_count": 15,
   "metadata": {
    "collapsed": true
   },
   "outputs": [],
   "source": [
    "df2['rookie']=( (df2.Experience<=1) | (df2.Experience=='R'))*1.0\n",
    "df2['clutchfactor']= ((df2.PERIOD==4) & (df2.FINAL_MARGIN<=5) & (df2.GAME_CLOCK<=120))*1.0\n",
    "df2['clutch_made']= ((df2.PERIOD==4) & (df2.FINAL_MARGIN<=5) & (df2.GAME_CLOCK<=120) &(df2.FGM==1))*1.0\n",
    "df2['foreigner']= (df2.Birth_Place!='us')*1.0"
   ]
  },
  {
   "cell_type": "markdown",
   "metadata": {},
   "source": [
    "After creating rookie and foreigner column, decided to drop these."
   ]
  },
  {
   "cell_type": "code",
   "execution_count": 16,
   "metadata": {
    "collapsed": true
   },
   "outputs": [],
   "source": [
    "df2.drop(['Experience', 'Birth_Place'],axis=1, inplace=True)"
   ]
  },
  {
   "cell_type": "markdown",
   "metadata": {},
   "source": [
    "SHOT_CLOCK is the only colummn with NAN. If there is no data for shot clock, it means it is the last possession of the game and game time has run out (game clock =0). Thus, shot clock should be 0."
   ]
  },
  {
   "cell_type": "code",
   "execution_count": 17,
   "metadata": {
    "collapsed": false
   },
   "outputs": [
    {
     "data": {
      "text/plain": [
       "LOCATION            False\n",
       "W or L              False\n",
       "FINAL_MARGIN        False\n",
       "PERIOD              False\n",
       "GAME_CLOCK          False\n",
       "SHOT_CLOCK           True\n",
       "DRIBBLES            False\n",
       "TOUCH_TIME          False\n",
       "SHOT_DIST           False\n",
       "PTS_TYPE            False\n",
       "CLOSEST_DEFENDER    False\n",
       "CLOSE_DEF_DIST      False\n",
       "FGM                 False\n",
       "Age                 False\n",
       "Height              False\n",
       "Pos                 False\n",
       "Team                False\n",
       "Weight              False\n",
       "Name                False\n",
       "rookie              False\n",
       "clutchfactor        False\n",
       "clutch_made         False\n",
       "foreigner           False\n",
       "dtype: bool"
      ]
     },
     "execution_count": 17,
     "metadata": {},
     "output_type": "execute_result"
    }
   ],
   "source": [
    "pd.isnull(df2).sum() > 0"
   ]
  },
  {
   "cell_type": "code",
   "execution_count": 18,
   "metadata": {
    "collapsed": true
   },
   "outputs": [],
   "source": [
    "df2.replace(np.NAN,0,inplace=True)"
   ]
  },
  {
   "cell_type": "markdown",
   "metadata": {},
   "source": [
    "# <u> 3. Interesting Finding Summary </u>"
   ]
  },
  {
   "cell_type": "markdown",
   "metadata": {},
   "source": [
    "During the last two minutes of the quarter, point guards tend to have more touch time with the ball and attempt more field goals than any other positions and time in the game. Also, compared to other quarters they tend to make more field goal attempts during this time, especially 3 pointers."
   ]
  },
  {
   "cell_type": "markdown",
   "metadata": {},
   "source": [
    "<i> Background: Point guards are one of five positions in basketball and are known as the team leader  on the court. They  control the ball and run the team's offensive plays, hence they have more ball handling and control the tempo of the game. They provide scoring opportunities for their team through passing the ball as they deem fit. </i>"
   ]
  },
  {
   "cell_type": "markdown",
   "metadata": {},
   "source": [
    "\n",
    "# <u> 4. Machine Learning: Clustering </u>"
   ]
  },
  {
   "cell_type": "markdown",
   "metadata": {},
   "source": [
    "After several attempts on using decision tree and regression, they did not result in any findings. Clustering worked in this case. Through clustering, I was able to detect two different groups and research further into the differences between them."
   ]
  },
  {
   "cell_type": "code",
   "execution_count": 19,
   "metadata": {
    "collapsed": true
   },
   "outputs": [],
   "source": [
    "cluster= pd.get_dummies(df2,columns=['Pos', 'PTS_TYPE'])"
   ]
  },
  {
   "cell_type": "code",
   "execution_count": 20,
   "metadata": {
    "collapsed": true
   },
   "outputs": [],
   "source": [
    "clusters=cluster.drop(['Name', 'CLOSEST_DEFENDER', 'Team', 'clutch_made', 'Age', 'W or L', 'Weight','SHOT_DIST','LOCATION','PERIOD', 'rookie', 'DRIBBLES', 'foreigner'],axis=1)"
   ]
  },
  {
   "cell_type": "code",
   "execution_count": 21,
   "metadata": {
    "collapsed": false
   },
   "outputs": [
    {
     "data": {
      "text/plain": [
       "KMeans(algorithm='auto', copy_x=True, init='k-means++', max_iter=300,\n",
       "    n_clusters=2, n_init=10, n_jobs=1, precompute_distances='auto',\n",
       "    random_state=0, tol=0.0001, verbose=0)"
      ]
     },
     "execution_count": 21,
     "metadata": {},
     "output_type": "execute_result"
    }
   ],
   "source": [
    "from sklearn.cluster import KMeans\n",
    "clu = KMeans(n_clusters=2, random_state=0)\n",
    "clu.fit(clusters)"
   ]
  },
  {
   "cell_type": "code",
   "execution_count": 22,
   "metadata": {
    "collapsed": true
   },
   "outputs": [],
   "source": [
    "clusters['cluster'] = clu.labels_"
   ]
  },
  {
   "cell_type": "code",
   "execution_count": 23,
   "metadata": {
    "collapsed": true
   },
   "outputs": [],
   "source": [
    "clusterz=clusters.groupby('cluster').mean()"
   ]
  },
  {
   "cell_type": "code",
   "execution_count": 24,
   "metadata": {
    "collapsed": false
   },
   "outputs": [
    {
     "data": {
      "text/html": [
       "<div>\n",
       "<table border=\"1\" class=\"dataframe\">\n",
       "  <thead>\n",
       "    <tr style=\"text-align: right;\">\n",
       "      <th></th>\n",
       "      <th>FINAL_MARGIN</th>\n",
       "      <th>GAME_CLOCK</th>\n",
       "      <th>SHOT_CLOCK</th>\n",
       "      <th>TOUCH_TIME</th>\n",
       "      <th>CLOSE_DEF_DIST</th>\n",
       "      <th>FGM</th>\n",
       "      <th>Height</th>\n",
       "      <th>clutchfactor</th>\n",
       "      <th>Pos_C</th>\n",
       "      <th>Pos_PF</th>\n",
       "      <th>Pos_PG</th>\n",
       "      <th>Pos_SF</th>\n",
       "      <th>Pos_SG</th>\n",
       "      <th>PTS_TYPE_2</th>\n",
       "      <th>PTS_TYPE_3</th>\n",
       "    </tr>\n",
       "    <tr>\n",
       "      <th>cluster</th>\n",
       "      <th></th>\n",
       "      <th></th>\n",
       "      <th></th>\n",
       "      <th></th>\n",
       "      <th></th>\n",
       "      <th></th>\n",
       "      <th></th>\n",
       "      <th></th>\n",
       "      <th></th>\n",
       "      <th></th>\n",
       "      <th></th>\n",
       "      <th></th>\n",
       "      <th></th>\n",
       "      <th></th>\n",
       "      <th></th>\n",
       "    </tr>\n",
       "  </thead>\n",
       "  <tbody>\n",
       "    <tr>\n",
       "      <th>0</th>\n",
       "      <td>0.185406</td>\n",
       "      <td>170.861966</td>\n",
       "      <td>11.441826</td>\n",
       "      <td>3.004492</td>\n",
       "      <td>4.100946</td>\n",
       "      <td>0.448948</td>\n",
       "      <td>197.035860</td>\n",
       "      <td>0.060164</td>\n",
       "      <td>0.144768</td>\n",
       "      <td>0.207553</td>\n",
       "      <td>0.258535</td>\n",
       "      <td>0.160150</td>\n",
       "      <td>0.228994</td>\n",
       "      <td>0.720463</td>\n",
       "      <td>0.279537</td>\n",
       "    </tr>\n",
       "    <tr>\n",
       "      <th>1</th>\n",
       "      <td>0.231805</td>\n",
       "      <td>530.099580</td>\n",
       "      <td>12.377443</td>\n",
       "      <td>2.529723</td>\n",
       "      <td>4.144860</td>\n",
       "      <td>0.455298</td>\n",
       "      <td>198.030946</td>\n",
       "      <td>0.000000</td>\n",
       "      <td>0.172918</td>\n",
       "      <td>0.227408</td>\n",
       "      <td>0.222638</td>\n",
       "      <td>0.162228</td>\n",
       "      <td>0.214807</td>\n",
       "      <td>0.750047</td>\n",
       "      <td>0.249953</td>\n",
       "    </tr>\n",
       "  </tbody>\n",
       "</table>\n",
       "</div>"
      ],
      "text/plain": [
       "         FINAL_MARGIN  GAME_CLOCK  SHOT_CLOCK  TOUCH_TIME  CLOSE_DEF_DIST  \\\n",
       "cluster                                                                     \n",
       "0            0.185406  170.861966   11.441826    3.004492        4.100946   \n",
       "1            0.231805  530.099580   12.377443    2.529723        4.144860   \n",
       "\n",
       "              FGM      Height  clutchfactor     Pos_C    Pos_PF    Pos_PG  \\\n",
       "cluster                                                                     \n",
       "0        0.448948  197.035860      0.060164  0.144768  0.207553  0.258535   \n",
       "1        0.455298  198.030946      0.000000  0.172918  0.227408  0.222638   \n",
       "\n",
       "           Pos_SF    Pos_SG  PTS_TYPE_2  PTS_TYPE_3  \n",
       "cluster                                              \n",
       "0        0.160150  0.228994    0.720463    0.279537  \n",
       "1        0.162228  0.214807    0.750047    0.249953  "
      ]
     },
     "execution_count": 24,
     "metadata": {},
     "output_type": "execute_result"
    }
   ],
   "source": [
    "clusterz"
   ]
  },
  {
   "cell_type": "markdown",
   "metadata": {},
   "source": [
    "These are some of the difference after analyzing the above table: cluster 0 has less time in the game clock with sightly more touch time and PG. Because of this table, I started to analyze further if PG have some correlation with the amount of time they have the ball towards the end of the game."
   ]
  },
  {
   "cell_type": "code",
   "execution_count": 25,
   "metadata": {
    "collapsed": true
   },
   "outputs": [],
   "source": [
    "import sklearn as sk\n",
    "import sklearn.tree as tree\n",
    "from IPython.display import Image  \n",
    "import pydotplus"
   ]
  },
  {
   "cell_type": "code",
   "execution_count": 26,
   "metadata": {
    "collapsed": true
   },
   "outputs": [],
   "source": [
    "X= clusters.drop(['cluster','clutchfactor','SHOT_CLOCK','GAME_CLOCK'], axis=1)\n",
    "Y=clusters.cluster"
   ]
  },
  {
   "cell_type": "code",
   "execution_count": 27,
   "metadata": {
    "collapsed": true
   },
   "outputs": [],
   "source": [
    "from sklearn.model_selection import train_test_split\n",
    "X_train, X_test, y_train, y_test = train_test_split(X,Y,test_size=0.3,random_state=2)"
   ]
  },
  {
   "cell_type": "code",
   "execution_count": 28,
   "metadata": {
    "collapsed": false
   },
   "outputs": [
    {
     "data": {
      "text/plain": [
       "DecisionTreeClassifier(class_weight=None, criterion='gini', max_depth=2,\n",
       "            max_features=None, max_leaf_nodes=None,\n",
       "            min_impurity_split=1e-07, min_samples_leaf=1,\n",
       "            min_samples_split=2, min_weight_fraction_leaf=0.0,\n",
       "            presort=False, random_state=None, splitter='best')"
      ]
     },
     "execution_count": 28,
     "metadata": {},
     "output_type": "execute_result"
    }
   ],
   "source": [
    "dt = tree.DecisionTreeClassifier(max_depth=2)\n",
    "dt.fit(X=X,y=Y)"
   ]
  },
  {
   "cell_type": "markdown",
   "metadata": {},
   "source": [
    "The below tree is not the best tree, but it does demonstrate that:\n",
    "<ol>\n",
    "<li> If touch time less than 10 seconds and if height is smaller than 195cm, most likely in cluster 0 (PG are usually shorter). </li>\n",
    "<li> If touch time less than 10 seconds but height is larger than 195cm, most likely in cluster 1 (slightly more chance of being C who are taller players).</li>\n",
    "<li> If touch time greater than 10 seconds, most likely in cluster 0."
   ]
  },
  {
   "cell_type": "code",
   "execution_count": 29,
   "metadata": {
    "collapsed": false
   },
   "outputs": [
    {
     "data": {
      "image/png": "[encoded data removed]",
      "text/plain": [
       "<IPython.core.display.Image object>"
      ]
     },
     "execution_count": 29,
     "metadata": {},
     "output_type": "execute_result"
    }
   ],
   "source": [
    "dt_feature_names = list(X.columns)\n",
    "dt_target_names = np.array(Y.unique(),dtype=np.string_) \n",
    "tree.export_graphviz(dt, out_file='tree.dot', \n",
    "    feature_names=dt_feature_names, class_names=dt_target_names,\n",
    "    filled=True)  \n",
    "graph = pydotplus.graph_from_dot_file('tree.dot')\n",
    "Image(graph.create_png())"
   ]
  },
  {
   "cell_type": "markdown",
   "metadata": {},
   "source": [
    "As shown below, PG is positively correlated with touch time."
   ]
  },
  {
   "cell_type": "code",
   "execution_count": 30,
   "metadata": {
    "collapsed": false,
    "scrolled": false
   },
   "outputs": [
    {
     "data": {
      "text/html": [
       "<div>\n",
       "<table border=\"1\" class=\"dataframe\">\n",
       "  <thead>\n",
       "    <tr style=\"text-align: right;\">\n",
       "      <th></th>\n",
       "      <th>FINAL_MARGIN</th>\n",
       "      <th>GAME_CLOCK</th>\n",
       "      <th>SHOT_CLOCK</th>\n",
       "      <th>TOUCH_TIME</th>\n",
       "      <th>CLOSE_DEF_DIST</th>\n",
       "      <th>FGM</th>\n",
       "      <th>Height</th>\n",
       "      <th>clutchfactor</th>\n",
       "      <th>Pos_C</th>\n",
       "      <th>Pos_PF</th>\n",
       "      <th>Pos_PG</th>\n",
       "      <th>Pos_SF</th>\n",
       "      <th>Pos_SG</th>\n",
       "      <th>PTS_TYPE_2</th>\n",
       "      <th>PTS_TYPE_3</th>\n",
       "      <th>cluster</th>\n",
       "    </tr>\n",
       "  </thead>\n",
       "  <tbody>\n",
       "    <tr>\n",
       "      <th>FINAL_MARGIN</th>\n",
       "      <td>1.000000</td>\n",
       "      <td>0.005975</td>\n",
       "      <td>-0.001961</td>\n",
       "      <td>0.010788</td>\n",
       "      <td>0.033064</td>\n",
       "      <td>0.058762</td>\n",
       "      <td>-0.024651</td>\n",
       "      <td>-0.090954</td>\n",
       "      <td>-0.017966</td>\n",
       "      <td>0.014883</td>\n",
       "      <td>0.011124</td>\n",
       "      <td>-0.015225</td>\n",
       "      <td>0.003062</td>\n",
       "      <td>-0.024134</td>\n",
       "      <td>0.024134</td>\n",
       "      <td>0.001753</td>\n",
       "    </tr>\n",
       "    <tr>\n",
       "      <th>GAME_CLOCK</th>\n",
       "      <td>0.005975</td>\n",
       "      <td>1.000000</td>\n",
       "      <td>0.108234</td>\n",
       "      <td>-0.103308</td>\n",
       "      <td>0.007455</td>\n",
       "      <td>0.011476</td>\n",
       "      <td>0.069139</td>\n",
       "      <td>-0.252867</td>\n",
       "      <td>0.046561</td>\n",
       "      <td>0.029927</td>\n",
       "      <td>-0.055355</td>\n",
       "      <td>0.003883</td>\n",
       "      <td>-0.017183</td>\n",
       "      <td>0.048474</td>\n",
       "      <td>-0.048474</td>\n",
       "      <td>0.865247</td>\n",
       "    </tr>\n",
       "    <tr>\n",
       "      <th>SHOT_CLOCK</th>\n",
       "      <td>-0.001961</td>\n",
       "      <td>0.108234</td>\n",
       "      <td>1.000000</td>\n",
       "      <td>-0.139159</td>\n",
       "      <td>0.022725</td>\n",
       "      <td>0.101981</td>\n",
       "      <td>0.005151</td>\n",
       "      <td>-0.043817</td>\n",
       "      <td>0.016739</td>\n",
       "      <td>-0.018862</td>\n",
       "      <td>-0.006049</td>\n",
       "      <td>0.008395</td>\n",
       "      <td>0.002793</td>\n",
       "      <td>0.056575</td>\n",
       "      <td>-0.056575</td>\n",
       "      <td>0.075669</td>\n",
       "    </tr>\n",
       "    <tr>\n",
       "      <th>TOUCH_TIME</th>\n",
       "      <td>0.010788</td>\n",
       "      <td>-0.103308</td>\n",
       "      <td>-0.139159</td>\n",
       "      <td>1.000000</td>\n",
       "      <td>-0.164737</td>\n",
       "      <td>-0.045299</td>\n",
       "      <td>-0.315760</td>\n",
       "      <td>0.025497</td>\n",
       "      <td>-0.145563</td>\n",
       "      <td>-0.165354</td>\n",
       "      <td>0.329166</td>\n",
       "      <td>-0.064603</td>\n",
       "      <td>0.010858</td>\n",
       "      <td>0.181007</td>\n",
       "      <td>-0.181007</td>\n",
       "      <td>-0.077992</td>\n",
       "    </tr>\n",
       "    <tr>\n",
       "      <th>CLOSE_DEF_DIST</th>\n",
       "      <td>0.033064</td>\n",
       "      <td>0.007455</td>\n",
       "      <td>0.022725</td>\n",
       "      <td>-0.164737</td>\n",
       "      <td>1.000000</td>\n",
       "      <td>-0.001074</td>\n",
       "      <td>-0.055468</td>\n",
       "      <td>-0.008419</td>\n",
       "      <td>-0.104625</td>\n",
       "      <td>0.011679</td>\n",
       "      <td>0.009791</td>\n",
       "      <td>0.048738</td>\n",
       "      <td>0.027259</td>\n",
       "      <td>-0.414198</td>\n",
       "      <td>0.414198</td>\n",
       "      <td>0.007966</td>\n",
       "    </tr>\n",
       "    <tr>\n",
       "      <th>FGM</th>\n",
       "      <td>0.058762</td>\n",
       "      <td>0.011476</td>\n",
       "      <td>0.101981</td>\n",
       "      <td>-0.045299</td>\n",
       "      <td>-0.001074</td>\n",
       "      <td>1.000000</td>\n",
       "      <td>0.048235</td>\n",
       "      <td>-0.013908</td>\n",
       "      <td>0.051669</td>\n",
       "      <td>0.020225</td>\n",
       "      <td>-0.025398</td>\n",
       "      <td>-0.015059</td>\n",
       "      <td>-0.026094</td>\n",
       "      <td>0.121293</td>\n",
       "      <td>-0.121293</td>\n",
       "      <td>0.006380</td>\n",
       "    </tr>\n",
       "    <tr>\n",
       "      <th>Height</th>\n",
       "      <td>-0.024651</td>\n",
       "      <td>0.069139</td>\n",
       "      <td>0.005151</td>\n",
       "      <td>-0.315760</td>\n",
       "      <td>-0.055468</td>\n",
       "      <td>0.048235</td>\n",
       "      <td>1.000000</td>\n",
       "      <td>-0.032907</td>\n",
       "      <td>0.532868</td>\n",
       "      <td>0.403877</td>\n",
       "      <td>-0.722426</td>\n",
       "      <td>0.123756</td>\n",
       "      <td>-0.236325</td>\n",
       "      <td>0.197850</td>\n",
       "      <td>-0.197850</td>\n",
       "      <td>0.054838</td>\n",
       "    </tr>\n",
       "    <tr>\n",
       "      <th>clutchfactor</th>\n",
       "      <td>-0.090954</td>\n",
       "      <td>-0.252867</td>\n",
       "      <td>-0.043817</td>\n",
       "      <td>0.025497</td>\n",
       "      <td>-0.008419</td>\n",
       "      <td>-0.013908</td>\n",
       "      <td>-0.032907</td>\n",
       "      <td>1.000000</td>\n",
       "      <td>-0.022702</td>\n",
       "      <td>-0.024414</td>\n",
       "      <td>0.023609</td>\n",
       "      <td>0.006249</td>\n",
       "      <td>0.014403</td>\n",
       "      <td>-0.046798</td>\n",
       "      <td>0.046798</td>\n",
       "      <td>-0.176544</td>\n",
       "    </tr>\n",
       "    <tr>\n",
       "      <th>Pos_C</th>\n",
       "      <td>-0.017966</td>\n",
       "      <td>0.046561</td>\n",
       "      <td>0.016739</td>\n",
       "      <td>-0.145563</td>\n",
       "      <td>-0.104625</td>\n",
       "      <td>0.051669</td>\n",
       "      <td>0.532868</td>\n",
       "      <td>-0.022702</td>\n",
       "      <td>1.000000</td>\n",
       "      <td>-0.229186</td>\n",
       "      <td>-0.244596</td>\n",
       "      <td>-0.190549</td>\n",
       "      <td>-0.232102</td>\n",
       "      <td>0.238606</td>\n",
       "      <td>-0.238606</td>\n",
       "      <td>0.038499</td>\n",
       "    </tr>\n",
       "    <tr>\n",
       "      <th>Pos_PF</th>\n",
       "      <td>0.014883</td>\n",
       "      <td>0.029927</td>\n",
       "      <td>-0.018862</td>\n",
       "      <td>-0.165354</td>\n",
       "      <td>0.011679</td>\n",
       "      <td>0.020225</td>\n",
       "      <td>0.403877</td>\n",
       "      <td>-0.024414</td>\n",
       "      <td>-0.229186</td>\n",
       "      <td>1.000000</td>\n",
       "      <td>-0.296699</td>\n",
       "      <td>-0.231138</td>\n",
       "      <td>-0.281542</td>\n",
       "      <td>0.090626</td>\n",
       "      <td>-0.090626</td>\n",
       "      <td>0.024063</td>\n",
       "    </tr>\n",
       "    <tr>\n",
       "      <th>Pos_PG</th>\n",
       "      <td>0.011124</td>\n",
       "      <td>-0.055355</td>\n",
       "      <td>-0.006049</td>\n",
       "      <td>0.329166</td>\n",
       "      <td>0.009791</td>\n",
       "      <td>-0.025398</td>\n",
       "      <td>-0.722426</td>\n",
       "      <td>0.023609</td>\n",
       "      <td>-0.244596</td>\n",
       "      <td>-0.296699</td>\n",
       "      <td>1.000000</td>\n",
       "      <td>-0.246679</td>\n",
       "      <td>-0.300473</td>\n",
       "      <td>-0.066807</td>\n",
       "      <td>0.066807</td>\n",
       "      <td>-0.041995</td>\n",
       "    </tr>\n",
       "    <tr>\n",
       "      <th>Pos_SF</th>\n",
       "      <td>-0.015225</td>\n",
       "      <td>0.003883</td>\n",
       "      <td>0.008395</td>\n",
       "      <td>-0.064603</td>\n",
       "      <td>0.048738</td>\n",
       "      <td>-0.015059</td>\n",
       "      <td>0.123756</td>\n",
       "      <td>0.006249</td>\n",
       "      <td>-0.190549</td>\n",
       "      <td>-0.231138</td>\n",
       "      <td>-0.246679</td>\n",
       "      <td>1.000000</td>\n",
       "      <td>-0.234078</td>\n",
       "      <td>-0.106481</td>\n",
       "      <td>0.106481</td>\n",
       "      <td>0.002826</td>\n",
       "    </tr>\n",
       "    <tr>\n",
       "      <th>Pos_SG</th>\n",
       "      <td>0.003062</td>\n",
       "      <td>-0.017183</td>\n",
       "      <td>0.002793</td>\n",
       "      <td>0.010858</td>\n",
       "      <td>0.027259</td>\n",
       "      <td>-0.026094</td>\n",
       "      <td>-0.236325</td>\n",
       "      <td>0.014403</td>\n",
       "      <td>-0.232102</td>\n",
       "      <td>-0.281542</td>\n",
       "      <td>-0.300473</td>\n",
       "      <td>-0.234078</td>\n",
       "      <td>1.000000</td>\n",
       "      <td>-0.136982</td>\n",
       "      <td>0.136982</td>\n",
       "      <td>-0.017072</td>\n",
       "    </tr>\n",
       "    <tr>\n",
       "      <th>PTS_TYPE_2</th>\n",
       "      <td>-0.024134</td>\n",
       "      <td>0.048474</td>\n",
       "      <td>0.056575</td>\n",
       "      <td>0.181007</td>\n",
       "      <td>-0.414198</td>\n",
       "      <td>0.121293</td>\n",
       "      <td>0.197850</td>\n",
       "      <td>-0.046798</td>\n",
       "      <td>0.238606</td>\n",
       "      <td>0.090626</td>\n",
       "      <td>-0.066807</td>\n",
       "      <td>-0.106481</td>\n",
       "      <td>-0.136982</td>\n",
       "      <td>1.000000</td>\n",
       "      <td>-1.000000</td>\n",
       "      <td>0.033529</td>\n",
       "    </tr>\n",
       "    <tr>\n",
       "      <th>PTS_TYPE_3</th>\n",
       "      <td>0.024134</td>\n",
       "      <td>-0.048474</td>\n",
       "      <td>-0.056575</td>\n",
       "      <td>-0.181007</td>\n",
       "      <td>0.414198</td>\n",
       "      <td>-0.121293</td>\n",
       "      <td>-0.197850</td>\n",
       "      <td>0.046798</td>\n",
       "      <td>-0.238606</td>\n",
       "      <td>-0.090626</td>\n",
       "      <td>0.066807</td>\n",
       "      <td>0.106481</td>\n",
       "      <td>0.136982</td>\n",
       "      <td>-1.000000</td>\n",
       "      <td>1.000000</td>\n",
       "      <td>-0.033529</td>\n",
       "    </tr>\n",
       "    <tr>\n",
       "      <th>cluster</th>\n",
       "      <td>0.001753</td>\n",
       "      <td>0.865247</td>\n",
       "      <td>0.075669</td>\n",
       "      <td>-0.077992</td>\n",
       "      <td>0.007966</td>\n",
       "      <td>0.006380</td>\n",
       "      <td>0.054838</td>\n",
       "      <td>-0.176544</td>\n",
       "      <td>0.038499</td>\n",
       "      <td>0.024063</td>\n",
       "      <td>-0.041995</td>\n",
       "      <td>0.002826</td>\n",
       "      <td>-0.017072</td>\n",
       "      <td>0.033529</td>\n",
       "      <td>-0.033529</td>\n",
       "      <td>1.000000</td>\n",
       "    </tr>\n",
       "  </tbody>\n",
       "</table>\n",
       "</div>"
      ],
      "text/plain": [
       "                FINAL_MARGIN  GAME_CLOCK  SHOT_CLOCK  TOUCH_TIME  \\\n",
       "FINAL_MARGIN        1.000000    0.005975   -0.001961    0.010788   \n",
       "GAME_CLOCK          0.005975    1.000000    0.108234   -0.103308   \n",
       "SHOT_CLOCK         -0.001961    0.108234    1.000000   -0.139159   \n",
       "TOUCH_TIME          0.010788   -0.103308   -0.139159    1.000000   \n",
       "CLOSE_DEF_DIST      0.033064    0.007455    0.022725   -0.164737   \n",
       "FGM                 0.058762    0.011476    0.101981   -0.045299   \n",
       "Height             -0.024651    0.069139    0.005151   -0.315760   \n",
       "clutchfactor       -0.090954   -0.252867   -0.043817    0.025497   \n",
       "Pos_C              -0.017966    0.046561    0.016739   -0.145563   \n",
       "Pos_PF              0.014883    0.029927   -0.018862   -0.165354   \n",
       "Pos_PG              0.011124   -0.055355   -0.006049    0.329166   \n",
       "Pos_SF             -0.015225    0.003883    0.008395   -0.064603   \n",
       "Pos_SG              0.003062   -0.017183    0.002793    0.010858   \n",
       "PTS_TYPE_2         -0.024134    0.048474    0.056575    0.181007   \n",
       "PTS_TYPE_3          0.024134   -0.048474   -0.056575   -0.181007   \n",
       "cluster             0.001753    0.865247    0.075669   -0.077992   \n",
       "\n",
       "                CLOSE_DEF_DIST       FGM    Height  clutchfactor     Pos_C  \\\n",
       "FINAL_MARGIN          0.033064  0.058762 -0.024651     -0.090954 -0.017966   \n",
       "GAME_CLOCK            0.007455  0.011476  0.069139     -0.252867  0.046561   \n",
       "SHOT_CLOCK            0.022725  0.101981  0.005151     -0.043817  0.016739   \n",
       "TOUCH_TIME           -0.164737 -0.045299 -0.315760      0.025497 -0.145563   \n",
       "CLOSE_DEF_DIST        1.000000 -0.001074 -0.055468     -0.008419 -0.104625   \n",
       "FGM                  -0.001074  1.000000  0.048235     -0.013908  0.051669   \n",
       "Height               -0.055468  0.048235  1.000000     -0.032907  0.532868   \n",
       "clutchfactor         -0.008419 -0.013908 -0.032907      1.000000 -0.022702   \n",
       "Pos_C                -0.104625  0.051669  0.532868     -0.022702  1.000000   \n",
       "Pos_PF                0.011679  0.020225  0.403877     -0.024414 -0.229186   \n",
       "Pos_PG                0.009791 -0.025398 -0.722426      0.023609 -0.244596   \n",
       "Pos_SF                0.048738 -0.015059  0.123756      0.006249 -0.190549   \n",
       "Pos_SG                0.027259 -0.026094 -0.236325      0.014403 -0.232102   \n",
       "PTS_TYPE_2           -0.414198  0.121293  0.197850     -0.046798  0.238606   \n",
       "PTS_TYPE_3            0.414198 -0.121293 -0.197850      0.046798 -0.238606   \n",
       "cluster               0.007966  0.006380  0.054838     -0.176544  0.038499   \n",
       "\n",
       "                  Pos_PF    Pos_PG    Pos_SF    Pos_SG  PTS_TYPE_2  \\\n",
       "FINAL_MARGIN    0.014883  0.011124 -0.015225  0.003062   -0.024134   \n",
       "GAME_CLOCK      0.029927 -0.055355  0.003883 -0.017183    0.048474   \n",
       "SHOT_CLOCK     -0.018862 -0.006049  0.008395  0.002793    0.056575   \n",
       "TOUCH_TIME     -0.165354  0.329166 -0.064603  0.010858    0.181007   \n",
       "CLOSE_DEF_DIST  0.011679  0.009791  0.048738  0.027259   -0.414198   \n",
       "FGM             0.020225 -0.025398 -0.015059 -0.026094    0.121293   \n",
       "Height          0.403877 -0.722426  0.123756 -0.236325    0.197850   \n",
       "clutchfactor   -0.024414  0.023609  0.006249  0.014403   -0.046798   \n",
       "Pos_C          -0.229186 -0.244596 -0.190549 -0.232102    0.238606   \n",
       "Pos_PF          1.000000 -0.296699 -0.231138 -0.281542    0.090626   \n",
       "Pos_PG         -0.296699  1.000000 -0.246679 -0.300473   -0.066807   \n",
       "Pos_SF         -0.231138 -0.246679  1.000000 -0.234078   -0.106481   \n",
       "Pos_SG         -0.281542 -0.300473 -0.234078  1.000000   -0.136982   \n",
       "PTS_TYPE_2      0.090626 -0.066807 -0.106481 -0.136982    1.000000   \n",
       "PTS_TYPE_3     -0.090626  0.066807  0.106481  0.136982   -1.000000   \n",
       "cluster         0.024063 -0.041995  0.002826 -0.017072    0.033529   \n",
       "\n",
       "                PTS_TYPE_3   cluster  \n",
       "FINAL_MARGIN      0.024134  0.001753  \n",
       "GAME_CLOCK       -0.048474  0.865247  \n",
       "SHOT_CLOCK       -0.056575  0.075669  \n",
       "TOUCH_TIME       -0.181007 -0.077992  \n",
       "CLOSE_DEF_DIST    0.414198  0.007966  \n",
       "FGM              -0.121293  0.006380  \n",
       "Height           -0.197850  0.054838  \n",
       "clutchfactor      0.046798 -0.176544  \n",
       "Pos_C            -0.238606  0.038499  \n",
       "Pos_PF           -0.090626  0.024063  \n",
       "Pos_PG            0.066807 -0.041995  \n",
       "Pos_SF            0.106481  0.002826  \n",
       "Pos_SG            0.136982 -0.017072  \n",
       "PTS_TYPE_2       -1.000000  0.033529  \n",
       "PTS_TYPE_3        1.000000 -0.033529  \n",
       "cluster          -0.033529  1.000000  "
      ]
     },
     "execution_count": 30,
     "metadata": {},
     "output_type": "execute_result"
    }
   ],
   "source": [
    "clusters.corr()"
   ]
  },
  {
   "cell_type": "markdown",
   "metadata": {},
   "source": [
    "Obvious finding: Center is positively correlated with height; these defenders are usually taller. Point guards are negatively correlated with height; they are usually smaller players with more speed."
   ]
  },
  {
   "cell_type": "markdown",
   "metadata": {},
   "source": [
    "# <u> 5. Validity of the Finding </u>"
   ]
  },
  {
   "cell_type": "markdown",
   "metadata": {},
   "source": [
    "Below are table/charts to validate that PGs attempt more shots and have more touch time last 2 minutes of the game (keep in mind game clock is in seconds and 720 is beginning of quarter, 0 is end)."
   ]
  },
  {
   "cell_type": "code",
   "execution_count": 31,
   "metadata": {
    "collapsed": true
   },
   "outputs": [],
   "source": [
    "cluster2=df2.copy()"
   ]
  },
  {
   "cell_type": "code",
   "execution_count": 32,
   "metadata": {
    "collapsed": false
   },
   "outputs": [],
   "source": [
    "cluster2['gameclock']=pd.cut(cluster2.GAME_CLOCK,6) #breaking up the game clock into 6 buckets"
   ]
  },
  {
   "cell_type": "code",
   "execution_count": 33,
   "metadata": {
    "collapsed": true
   },
   "outputs": [],
   "source": [
    "cluster2['shot']=1"
   ]
  },
  {
   "cell_type": "code",
   "execution_count": 36,
   "metadata": {
    "collapsed": false
   },
   "outputs": [],
   "source": [
    "table=cluster2.groupby(by=['Pos','gameclock']).agg({'TOUCH_TIME':{'Average_Touch_Time': 'mean'}, 'shot': {'Total_Shot_Attempts':'sum'}})"
   ]
  },
  {
   "cell_type": "code",
   "execution_count": 37,
   "metadata": {
    "collapsed": false
   },
   "outputs": [
    {
     "data": {
      "text/html": [
       "<div>\n",
       "<table border=\"1\" class=\"dataframe\">\n",
       "  <thead>\n",
       "    <tr>\n",
       "      <th></th>\n",
       "      <th></th>\n",
       "      <th>TOUCH_TIME</th>\n",
       "      <th>shot</th>\n",
       "    </tr>\n",
       "    <tr>\n",
       "      <th></th>\n",
       "      <th></th>\n",
       "      <th>Average_Touch_Time</th>\n",
       "      <th>Total_Shot_Attempts</th>\n",
       "    </tr>\n",
       "    <tr>\n",
       "      <th>Pos</th>\n",
       "      <th>gameclock</th>\n",
       "      <th></th>\n",
       "      <th></th>\n",
       "    </tr>\n",
       "  </thead>\n",
       "  <tbody>\n",
       "    <tr>\n",
       "      <th rowspan=\"6\" valign=\"top\">C</th>\n",
       "      <th>(-0.72, 120]</th>\n",
       "      <td>1.595212</td>\n",
       "      <td>2966</td>\n",
       "    </tr>\n",
       "    <tr>\n",
       "      <th>(120, 240]</th>\n",
       "      <td>1.698140</td>\n",
       "      <td>3118</td>\n",
       "    </tr>\n",
       "    <tr>\n",
       "      <th>(240, 360]</th>\n",
       "      <td>1.753821</td>\n",
       "      <td>3428</td>\n",
       "    </tr>\n",
       "    <tr>\n",
       "      <th>(360, 480]</th>\n",
       "      <td>1.761148</td>\n",
       "      <td>3660</td>\n",
       "    </tr>\n",
       "    <tr>\n",
       "      <th>(480, 600]</th>\n",
       "      <td>1.797719</td>\n",
       "      <td>3683</td>\n",
       "    </tr>\n",
       "    <tr>\n",
       "      <th>(600, 720]</th>\n",
       "      <td>1.842293</td>\n",
       "      <td>3497</td>\n",
       "    </tr>\n",
       "    <tr>\n",
       "      <th rowspan=\"6\" valign=\"top\">PF</th>\n",
       "      <th>(-0.72, 120]</th>\n",
       "      <td>1.705634</td>\n",
       "      <td>4597</td>\n",
       "    </tr>\n",
       "    <tr>\n",
       "      <th>(120, 240]</th>\n",
       "      <td>1.808266</td>\n",
       "      <td>4488</td>\n",
       "    </tr>\n",
       "    <tr>\n",
       "      <th>(240, 360]</th>\n",
       "      <td>1.838078</td>\n",
       "      <td>4538</td>\n",
       "    </tr>\n",
       "    <tr>\n",
       "      <th>(360, 480]</th>\n",
       "      <td>1.822578</td>\n",
       "      <td>4779</td>\n",
       "    </tr>\n",
       "    <tr>\n",
       "      <th>(480, 600]</th>\n",
       "      <td>1.872294</td>\n",
       "      <td>4768</td>\n",
       "    </tr>\n",
       "    <tr>\n",
       "      <th>(600, 720]</th>\n",
       "      <td>1.818831</td>\n",
       "      <td>4689</td>\n",
       "    </tr>\n",
       "    <tr>\n",
       "      <th rowspan=\"6\" valign=\"top\">PG</th>\n",
       "      <th>(-0.72, 120]</th>\n",
       "      <td>5.802774</td>\n",
       "      <td>6526</td>\n",
       "    </tr>\n",
       "    <tr>\n",
       "      <th>(120, 240]</th>\n",
       "      <td>4.514459</td>\n",
       "      <td>5194</td>\n",
       "    </tr>\n",
       "    <tr>\n",
       "      <th>(240, 360]</th>\n",
       "      <td>4.388906</td>\n",
       "      <td>5156</td>\n",
       "    </tr>\n",
       "    <tr>\n",
       "      <th>(360, 480]</th>\n",
       "      <td>4.175469</td>\n",
       "      <td>5014</td>\n",
       "    </tr>\n",
       "    <tr>\n",
       "      <th>(480, 600]</th>\n",
       "      <td>4.076778</td>\n",
       "      <td>4922</td>\n",
       "    </tr>\n",
       "    <tr>\n",
       "      <th>(600, 720]</th>\n",
       "      <td>3.781118</td>\n",
       "      <td>3988</td>\n",
       "    </tr>\n",
       "    <tr>\n",
       "      <th rowspan=\"6\" valign=\"top\">SF</th>\n",
       "      <th>(-0.72, 120]</th>\n",
       "      <td>2.647738</td>\n",
       "      <td>3492</td>\n",
       "    </tr>\n",
       "    <tr>\n",
       "      <th>(120, 240]</th>\n",
       "      <td>2.345080</td>\n",
       "      <td>3394</td>\n",
       "    </tr>\n",
       "    <tr>\n",
       "      <th>(240, 360]</th>\n",
       "      <td>2.312875</td>\n",
       "      <td>3635</td>\n",
       "    </tr>\n",
       "    <tr>\n",
       "      <th>(360, 480]</th>\n",
       "      <td>2.271181</td>\n",
       "      <td>3581</td>\n",
       "    </tr>\n",
       "    <tr>\n",
       "      <th>(480, 600]</th>\n",
       "      <td>2.208486</td>\n",
       "      <td>3488</td>\n",
       "    </tr>\n",
       "    <tr>\n",
       "      <th>(600, 720]</th>\n",
       "      <td>2.092600</td>\n",
       "      <td>3054</td>\n",
       "    </tr>\n",
       "    <tr>\n",
       "      <th rowspan=\"6\" valign=\"top\">SG</th>\n",
       "      <th>(-0.72, 120]</th>\n",
       "      <td>3.548803</td>\n",
       "      <td>5471</td>\n",
       "    </tr>\n",
       "    <tr>\n",
       "      <th>(120, 240]</th>\n",
       "      <td>2.890462</td>\n",
       "      <td>4802</td>\n",
       "    </tr>\n",
       "    <tr>\n",
       "      <th>(240, 360]</th>\n",
       "      <td>2.752580</td>\n",
       "      <td>4690</td>\n",
       "    </tr>\n",
       "    <tr>\n",
       "      <th>(360, 480]</th>\n",
       "      <td>2.608111</td>\n",
       "      <td>4537</td>\n",
       "    </tr>\n",
       "    <tr>\n",
       "      <th>(480, 600]</th>\n",
       "      <td>2.566796</td>\n",
       "      <td>4653</td>\n",
       "    </tr>\n",
       "    <tr>\n",
       "      <th>(600, 720]</th>\n",
       "      <td>2.433114</td>\n",
       "      <td>4261</td>\n",
       "    </tr>\n",
       "  </tbody>\n",
       "</table>\n",
       "</div>"
      ],
      "text/plain": [
       "                         TOUCH_TIME                shot\n",
       "                 Average_Touch_Time Total_Shot_Attempts\n",
       "Pos gameclock                                          \n",
       "C   (-0.72, 120]           1.595212                2966\n",
       "    (120, 240]             1.698140                3118\n",
       "    (240, 360]             1.753821                3428\n",
       "    (360, 480]             1.761148                3660\n",
       "    (480, 600]             1.797719                3683\n",
       "    (600, 720]             1.842293                3497\n",
       "PF  (-0.72, 120]           1.705634                4597\n",
       "    (120, 240]             1.808266                4488\n",
       "    (240, 360]             1.838078                4538\n",
       "    (360, 480]             1.822578                4779\n",
       "    (480, 600]             1.872294                4768\n",
       "    (600, 720]             1.818831                4689\n",
       "PG  (-0.72, 120]           5.802774                6526\n",
       "    (120, 240]             4.514459                5194\n",
       "    (240, 360]             4.388906                5156\n",
       "    (360, 480]             4.175469                5014\n",
       "    (480, 600]             4.076778                4922\n",
       "    (600, 720]             3.781118                3988\n",
       "SF  (-0.72, 120]           2.647738                3492\n",
       "    (120, 240]             2.345080                3394\n",
       "    (240, 360]             2.312875                3635\n",
       "    (360, 480]             2.271181                3581\n",
       "    (480, 600]             2.208486                3488\n",
       "    (600, 720]             2.092600                3054\n",
       "SG  (-0.72, 120]           3.548803                5471\n",
       "    (120, 240]             2.890462                4802\n",
       "    (240, 360]             2.752580                4690\n",
       "    (360, 480]             2.608111                4537\n",
       "    (480, 600]             2.566796                4653\n",
       "    (600, 720]             2.433114                4261"
      ]
     },
     "execution_count": 37,
     "metadata": {},
     "output_type": "execute_result"
    }
   ],
   "source": [
    "table"
   ]
  },
  {
   "cell_type": "markdown",
   "metadata": {},
   "source": [
    "To validate more touch time for Point Guards during last two minutes <i> (remember game clock is in seconds, 720 is begining of quarter and 0 is the end).</i>"
   ]
  },
  {
   "cell_type": "code",
   "execution_count": 38,
   "metadata": {
    "collapsed": false,
    "scrolled": true
   },
   "outputs": [
    {
     "data": {
      "text/plain": [
       "<seaborn.axisgrid.FacetGrid at 0x13122668>"
      ]
     },
     "execution_count": 38,
     "metadata": {},
     "output_type": "execute_result"
    },
    {
     "data": {
      "image/png": "[encoded data removed]",
      "text/plain": [
       "<matplotlib.figure.Figure at 0x10ed56a0>"
      ]
     },
     "metadata": {},
     "output_type": "display_data"
    }
   ],
   "source": [
    "sns.factorplot(x='gameclock', y='TOUCH_TIME', hue='Pos',data=cluster2, kind='bar',aspect=3)"
   ]
  },
  {
   "cell_type": "markdown",
   "metadata": {},
   "source": [
    "To validate more field goal attempts for point guards last 2 minutes."
   ]
  },
  {
   "cell_type": "code",
   "execution_count": 39,
   "metadata": {
    "collapsed": false,
    "scrolled": false
   },
   "outputs": [
    {
     "data": {
      "text/plain": [
       "<matplotlib.axes._subplots.AxesSubplot at 0x110425f8>"
      ]
     },
     "execution_count": 39,
     "metadata": {},
     "output_type": "execute_result"
    },
    {
     "data": {
      "image/png": "[encoded data removed]",
      "text/plain": [
       "<matplotlib.figure.Figure at 0xf15dac8>"
      ]
     },
     "metadata": {},
     "output_type": "display_data"
    }
   ],
   "source": [
    "sns.countplot(x='gameclock',hue='Pos',data=cluster2)"
   ]
  },
  {
   "cell_type": "markdown",
   "metadata": {},
   "source": [
    "To further validate that PGs have more touch time during last 2 minutes on 3 point shot attempts too!"
   ]
  },
  {
   "cell_type": "code",
   "execution_count": 40,
   "metadata": {
    "collapsed": false,
    "scrolled": false
   },
   "outputs": [
    {
     "data": {
      "text/plain": [
       "<seaborn.axisgrid.FacetGrid at 0xd96fda0>"
      ]
     },
     "execution_count": 40,
     "metadata": {},
     "output_type": "execute_result"
    },
    {
     "data": {
      "image/png": "[encoded data removed]",
      "text/plain": [
       "<matplotlib.figure.Figure at 0x11059908>"
      ]
     },
     "metadata": {},
     "output_type": "display_data"
    }
   ],
   "source": [
    "sns.factorplot(x='gameclock', y='TOUCH_TIME', col='PTS_TYPE', hue='Pos',data=cluster2, kind='point',aspect=2)"
   ]
  },
  {
   "cell_type": "markdown",
   "metadata": {},
   "source": [
    "# <u> 6.  Managerial Insights</u>"
   ]
  },
  {
   "cell_type": "markdown",
   "metadata": {},
   "source": [
    "During the last two minutes of the game, point guards have more time on the ball. There are a couple of speculations as to why this occurred: \n",
    "<ol> <li> There are probably more scripted plays during last two minutes (especially if there is a low margin to victory). Hence point guards are relied upon to carry out the team's plays to increase their lead. </li>\n",
    "<li> The team is ahead so the point guards waste time to keep their lead. </li>\n",
    "</ol>\n",
    "\n",
    "This is a surprised finding as one may think historically shooting guards (e.g. Michael Jordan, Dwayne Wade, Kobe Bryant...) would handle the last couple minutes of the game. It appears that during this time in the NBA (2014-2015 season), we started to see that point guards and quick ball movement are becoming more prominent.\n",
    "\n",
    "Therefore, from a defender perspective, place your best defender or double team against the opposing PG last couple minutes to prevent scoring. There are many factors to the game (who the PG is, the nature of the team, team rivalry, injuries, etc.) so it is best to plan ahead before a game and strategize how to defend the opposing team's PG."
   ]
  },
  {
   "cell_type": "markdown",
   "metadata": {},
   "source": [
    "# <u> 7. Extra Analysis In Case You're Interested</u>"
   ]
  },
  {
   "cell_type": "markdown",
   "metadata": {},
   "source": [
    "## Highest Field Goal Percentage Including Dunks"
   ]
  },
  {
   "cell_type": "markdown",
   "metadata": {},
   "source": [
    "Eliminate those who have less than 164 shot attempts made in the season (teams play around 82 games per season, assuming at least 2 shot attempts made per game)."
   ]
  },
  {
   "cell_type": "code",
   "execution_count": 41,
   "metadata": {
    "collapsed": true
   },
   "outputs": [],
   "source": [
    "df3=df2.groupby('Name').agg({'FGM': {'Total_Attempts': 'count','Made':'sum', 'FGM_Percentage': 'mean'}})\n",
    "df4=df3['FGM']"
   ]
  },
  {
   "cell_type": "code",
   "execution_count": 42,
   "metadata": {
    "collapsed": false
   },
   "outputs": [
    {
     "data": {
      "text/html": [
       "<div>\n",
       "<table border=\"1\" class=\"dataframe\">\n",
       "  <thead>\n",
       "    <tr style=\"text-align: right;\">\n",
       "      <th></th>\n",
       "      <th>Total_Attempts</th>\n",
       "      <th>Made</th>\n",
       "      <th>FGM_Percentage</th>\n",
       "    </tr>\n",
       "    <tr>\n",
       "      <th>Name</th>\n",
       "      <th></th>\n",
       "      <th></th>\n",
       "      <th></th>\n",
       "    </tr>\n",
       "  </thead>\n",
       "  <tbody>\n",
       "    <tr>\n",
       "      <th>deandre jordan</th>\n",
       "      <td>393</td>\n",
       "      <td>280</td>\n",
       "      <td>0.712468</td>\n",
       "    </tr>\n",
       "    <tr>\n",
       "      <th>tyson chandler</th>\n",
       "      <td>340</td>\n",
       "      <td>230</td>\n",
       "      <td>0.676471</td>\n",
       "    </tr>\n",
       "    <tr>\n",
       "      <th>rudy gobert</th>\n",
       "      <td>267</td>\n",
       "      <td>167</td>\n",
       "      <td>0.625468</td>\n",
       "    </tr>\n",
       "    <tr>\n",
       "      <th>james johnson</th>\n",
       "      <td>311</td>\n",
       "      <td>191</td>\n",
       "      <td>0.614148</td>\n",
       "    </tr>\n",
       "    <tr>\n",
       "      <th>ed davis</th>\n",
       "      <td>350</td>\n",
       "      <td>211</td>\n",
       "      <td>0.602857</td>\n",
       "    </tr>\n",
       "    <tr>\n",
       "      <th>alexis ajinca</th>\n",
       "      <td>211</td>\n",
       "      <td>126</td>\n",
       "      <td>0.597156</td>\n",
       "    </tr>\n",
       "    <tr>\n",
       "      <th>mason plumlee</th>\n",
       "      <td>403</td>\n",
       "      <td>236</td>\n",
       "      <td>0.585608</td>\n",
       "    </tr>\n",
       "    <tr>\n",
       "      <th>john henson</th>\n",
       "      <td>241</td>\n",
       "      <td>140</td>\n",
       "      <td>0.580913</td>\n",
       "    </tr>\n",
       "    <tr>\n",
       "      <th>amir johnson</th>\n",
       "      <td>402</td>\n",
       "      <td>233</td>\n",
       "      <td>0.579602</td>\n",
       "    </tr>\n",
       "    <tr>\n",
       "      <th>dwight howard</th>\n",
       "      <td>334</td>\n",
       "      <td>192</td>\n",
       "      <td>0.574850</td>\n",
       "    </tr>\n",
       "  </tbody>\n",
       "</table>\n",
       "</div>"
      ],
      "text/plain": [
       "                Total_Attempts  Made  FGM_Percentage\n",
       "Name                                                \n",
       "deandre jordan             393   280        0.712468\n",
       "tyson chandler             340   230        0.676471\n",
       "rudy gobert                267   167        0.625468\n",
       "james johnson              311   191        0.614148\n",
       "ed davis                   350   211        0.602857\n",
       "alexis ajinca              211   126        0.597156\n",
       "mason plumlee              403   236        0.585608\n",
       "john henson                241   140        0.580913\n",
       "amir johnson               402   233        0.579602\n",
       "dwight howard              334   192        0.574850"
      ]
     },
     "execution_count": 42,
     "metadata": {},
     "output_type": "execute_result"
    }
   ],
   "source": [
    "all=df4.ix[df4.Total_Attempts>=164,:].sort_values(by='FGM_Percentage', ascending=False)\n",
    "all.ix[0:10,:]"
   ]
  },
  {
   "cell_type": "markdown",
   "metadata": {},
   "source": [
    "## Worst Field Goal Efficiencies"
   ]
  },
  {
   "cell_type": "markdown",
   "metadata": {},
   "source": [
    "Elminated those with less than 164 shot attempts during the season."
   ]
  },
  {
   "cell_type": "code",
   "execution_count": 43,
   "metadata": {
    "collapsed": false
   },
   "outputs": [
    {
     "data": {
      "text/html": [
       "<div>\n",
       "<table border=\"1\" class=\"dataframe\">\n",
       "  <thead>\n",
       "    <tr style=\"text-align: right;\">\n",
       "      <th></th>\n",
       "      <th>Total_Attempts</th>\n",
       "      <th>Made</th>\n",
       "      <th>FGM_Percentage</th>\n",
       "    </tr>\n",
       "    <tr>\n",
       "      <th>Name</th>\n",
       "      <th></th>\n",
       "      <th></th>\n",
       "      <th></th>\n",
       "    </tr>\n",
       "  </thead>\n",
       "  <tbody>\n",
       "    <tr>\n",
       "      <th>ramon sessions</th>\n",
       "      <td>219</td>\n",
       "      <td>72</td>\n",
       "      <td>0.328767</td>\n",
       "    </tr>\n",
       "    <tr>\n",
       "      <th>vince carter</th>\n",
       "      <td>283</td>\n",
       "      <td>94</td>\n",
       "      <td>0.332155</td>\n",
       "    </tr>\n",
       "    <tr>\n",
       "      <th>nik stauskas</th>\n",
       "      <td>192</td>\n",
       "      <td>65</td>\n",
       "      <td>0.338542</td>\n",
       "    </tr>\n",
       "    <tr>\n",
       "      <th>nate robinson</th>\n",
       "      <td>202</td>\n",
       "      <td>69</td>\n",
       "      <td>0.341584</td>\n",
       "    </tr>\n",
       "    <tr>\n",
       "      <th>dante exum</th>\n",
       "      <td>285</td>\n",
       "      <td>98</td>\n",
       "      <td>0.343860</td>\n",
       "    </tr>\n",
       "    <tr>\n",
       "      <th>ronnie price</th>\n",
       "      <td>223</td>\n",
       "      <td>77</td>\n",
       "      <td>0.345291</td>\n",
       "    </tr>\n",
       "    <tr>\n",
       "      <th>kostas papanikolaou</th>\n",
       "      <td>187</td>\n",
       "      <td>65</td>\n",
       "      <td>0.347594</td>\n",
       "    </tr>\n",
       "    <tr>\n",
       "      <th>matthew dellavedova</th>\n",
       "      <td>210</td>\n",
       "      <td>73</td>\n",
       "      <td>0.347619</td>\n",
       "    </tr>\n",
       "    <tr>\n",
       "      <th>pero antic</th>\n",
       "      <td>222</td>\n",
       "      <td>79</td>\n",
       "      <td>0.355856</td>\n",
       "    </tr>\n",
       "    <tr>\n",
       "      <th>kirk hinrich</th>\n",
       "      <td>314</td>\n",
       "      <td>113</td>\n",
       "      <td>0.359873</td>\n",
       "    </tr>\n",
       "  </tbody>\n",
       "</table>\n",
       "</div>"
      ],
      "text/plain": [
       "                     Total_Attempts  Made  FGM_Percentage\n",
       "Name                                                     \n",
       "ramon sessions                  219    72        0.328767\n",
       "vince carter                    283    94        0.332155\n",
       "nik stauskas                    192    65        0.338542\n",
       "nate robinson                   202    69        0.341584\n",
       "dante exum                      285    98        0.343860\n",
       "ronnie price                    223    77        0.345291\n",
       "kostas papanikolaou             187    65        0.347594\n",
       "matthew dellavedova             210    73        0.347619\n",
       "pero antic                      222    79        0.355856\n",
       "kirk hinrich                    314   113        0.359873"
      ]
     },
     "execution_count": 43,
     "metadata": {},
     "output_type": "execute_result"
    }
   ],
   "source": [
    "all=df4.ix[df4.Total_Attempts>=164,:].sort_values(by='FGM_Percentage')\n",
    "all.ix[0:10,:]"
   ]
  },
  {
   "cell_type": "markdown",
   "metadata": {},
   "source": [
    "## Highest Field Goal Percentage (>=5 ft from basket)"
   ]
  },
  {
   "cell_type": "markdown",
   "metadata": {},
   "source": [
    "Again, eliminating players with less than 164 shot attempts during the season."
   ]
  },
  {
   "cell_type": "code",
   "execution_count": 44,
   "metadata": {
    "collapsed": true
   },
   "outputs": [],
   "source": [
    "shooters=df2.ix[df2.SHOT_DIST>=5,:]"
   ]
  },
  {
   "cell_type": "code",
   "execution_count": 45,
   "metadata": {
    "collapsed": false,
    "scrolled": false
   },
   "outputs": [
    {
     "data": {
      "text/html": [
       "<div>\n",
       "<table border=\"1\" class=\"dataframe\">\n",
       "  <thead>\n",
       "    <tr style=\"text-align: right;\">\n",
       "      <th></th>\n",
       "      <th>Total_Attempts</th>\n",
       "      <th>Made</th>\n",
       "      <th>FGM_Percentage</th>\n",
       "    </tr>\n",
       "    <tr>\n",
       "      <th>Name</th>\n",
       "      <th></th>\n",
       "      <th></th>\n",
       "      <th></th>\n",
       "    </tr>\n",
       "  </thead>\n",
       "  <tbody>\n",
       "    <tr>\n",
       "      <th>amir johnson</th>\n",
       "      <td>184</td>\n",
       "      <td>90</td>\n",
       "      <td>0.489130</td>\n",
       "    </tr>\n",
       "    <tr>\n",
       "      <th>kyle korver</th>\n",
       "      <td>463</td>\n",
       "      <td>224</td>\n",
       "      <td>0.483801</td>\n",
       "    </tr>\n",
       "    <tr>\n",
       "      <th>shaun livingston</th>\n",
       "      <td>194</td>\n",
       "      <td>93</td>\n",
       "      <td>0.479381</td>\n",
       "    </tr>\n",
       "    <tr>\n",
       "      <th>al horford</th>\n",
       "      <td>536</td>\n",
       "      <td>254</td>\n",
       "      <td>0.473881</td>\n",
       "    </tr>\n",
       "    <tr>\n",
       "      <th>chris paul</th>\n",
       "      <td>819</td>\n",
       "      <td>383</td>\n",
       "      <td>0.467643</td>\n",
       "    </tr>\n",
       "    <tr>\n",
       "      <th>jonas valanciunas</th>\n",
       "      <td>229</td>\n",
       "      <td>107</td>\n",
       "      <td>0.467249</td>\n",
       "    </tr>\n",
       "    <tr>\n",
       "      <th>nikola vucevic</th>\n",
       "      <td>609</td>\n",
       "      <td>284</td>\n",
       "      <td>0.466338</td>\n",
       "    </tr>\n",
       "    <tr>\n",
       "      <th>donatas motiejunas</th>\n",
       "      <td>409</td>\n",
       "      <td>190</td>\n",
       "      <td>0.464548</td>\n",
       "    </tr>\n",
       "    <tr>\n",
       "      <th>tyler zeller</th>\n",
       "      <td>210</td>\n",
       "      <td>97</td>\n",
       "      <td>0.461905</td>\n",
       "    </tr>\n",
       "    <tr>\n",
       "      <th>kevin seraphin</th>\n",
       "      <td>245</td>\n",
       "      <td>112</td>\n",
       "      <td>0.457143</td>\n",
       "    </tr>\n",
       "  </tbody>\n",
       "</table>\n",
       "</div>"
      ],
      "text/plain": [
       "                    Total_Attempts  Made  FGM_Percentage\n",
       "Name                                                    \n",
       "amir johnson                   184    90        0.489130\n",
       "kyle korver                    463   224        0.483801\n",
       "shaun livingston               194    93        0.479381\n",
       "al horford                     536   254        0.473881\n",
       "chris paul                     819   383        0.467643\n",
       "jonas valanciunas              229   107        0.467249\n",
       "nikola vucevic                 609   284        0.466338\n",
       "donatas motiejunas             409   190        0.464548\n",
       "tyler zeller                   210    97        0.461905\n",
       "kevin seraphin                 245   112        0.457143"
      ]
     },
     "execution_count": 45,
     "metadata": {},
     "output_type": "execute_result"
    }
   ],
   "source": [
    "topshooter=shooters.groupby('Name').agg({'FGM': {'Total_Attempts': 'count','Made':'sum', 'FGM_Percentage': 'mean'}})\n",
    "topshooters=topshooter['FGM']\n",
    "top=topshooters.ix[topshooters.Total_Attempts>=164,:].sort_values(by='FGM_Percentage', ascending=False)\n",
    "top.ix[0:10,:]"
   ]
  },
  {
   "cell_type": "markdown",
   "metadata": {},
   "source": [
    "## Best 3 Point Shooter"
   ]
  },
  {
   "cell_type": "markdown",
   "metadata": {},
   "source": [
    "I wanted to see the most frequent players, so eliminated those with less than 250 shot attempts."
   ]
  },
  {
   "cell_type": "code",
   "execution_count": 46,
   "metadata": {
    "collapsed": true
   },
   "outputs": [],
   "source": [
    "three=df2.ix[df2.PTS_TYPE==3,:]"
   ]
  },
  {
   "cell_type": "code",
   "execution_count": 47,
   "metadata": {
    "collapsed": false
   },
   "outputs": [],
   "source": [
    "threes=three.groupby('Name').agg( { 'PTS_TYPE': {'Total_Attempts': 'count'}, 'FGM':{'Field_Goals_Made':'sum'}})"
   ]
  },
  {
   "cell_type": "code",
   "execution_count": 48,
   "metadata": {
    "collapsed": true
   },
   "outputs": [],
   "source": [
    "threes.columns=threes.columns.droplevel(0)"
   ]
  },
  {
   "cell_type": "code",
   "execution_count": 49,
   "metadata": {
    "collapsed": true
   },
   "outputs": [],
   "source": [
    "threes['FGM_Percentage']=threes.Field_Goals_Made/threes.Total_Attempts"
   ]
  },
  {
   "cell_type": "code",
   "execution_count": 50,
   "metadata": {
    "collapsed": true
   },
   "outputs": [],
   "source": [
    "threez=threes.ix[threes.Total_Attempts>=250]"
   ]
  },
  {
   "cell_type": "code",
   "execution_count": 51,
   "metadata": {
    "collapsed": false
   },
   "outputs": [
    {
     "data": {
      "text/html": [
       "<div>\n",
       "<table border=\"1\" class=\"dataframe\">\n",
       "  <thead>\n",
       "    <tr style=\"text-align: right;\">\n",
       "      <th></th>\n",
       "      <th>Field_Goals_Made</th>\n",
       "      <th>Total_Attempts</th>\n",
       "      <th>FGM_Percentage</th>\n",
       "    </tr>\n",
       "    <tr>\n",
       "      <th>Name</th>\n",
       "      <th></th>\n",
       "      <th></th>\n",
       "      <th></th>\n",
       "    </tr>\n",
       "  </thead>\n",
       "  <tbody>\n",
       "    <tr>\n",
       "      <th>kyle korver</th>\n",
       "      <td>176</td>\n",
       "      <td>355</td>\n",
       "      <td>0.495775</td>\n",
       "    </tr>\n",
       "    <tr>\n",
       "      <th>klay thompson</th>\n",
       "      <td>177</td>\n",
       "      <td>407</td>\n",
       "      <td>0.434889</td>\n",
       "    </tr>\n",
       "    <tr>\n",
       "      <th>jj redick</th>\n",
       "      <td>140</td>\n",
       "      <td>329</td>\n",
       "      <td>0.425532</td>\n",
       "    </tr>\n",
       "    <tr>\n",
       "      <th>stephen curry</th>\n",
       "      <td>190</td>\n",
       "      <td>456</td>\n",
       "      <td>0.416667</td>\n",
       "    </tr>\n",
       "    <tr>\n",
       "      <th>kyrie irving</th>\n",
       "      <td>120</td>\n",
       "      <td>297</td>\n",
       "      <td>0.404040</td>\n",
       "    </tr>\n",
       "    <tr>\n",
       "      <th>brandon knight</th>\n",
       "      <td>119</td>\n",
       "      <td>300</td>\n",
       "      <td>0.396667</td>\n",
       "    </tr>\n",
       "    <tr>\n",
       "      <th>danny green</th>\n",
       "      <td>136</td>\n",
       "      <td>346</td>\n",
       "      <td>0.393064</td>\n",
       "    </tr>\n",
       "    <tr>\n",
       "      <th>wesley matthews</th>\n",
       "      <td>173</td>\n",
       "      <td>443</td>\n",
       "      <td>0.390519</td>\n",
       "    </tr>\n",
       "    <tr>\n",
       "      <th>channing frye</th>\n",
       "      <td>115</td>\n",
       "      <td>299</td>\n",
       "      <td>0.384615</td>\n",
       "    </tr>\n",
       "    <tr>\n",
       "      <th>james harden</th>\n",
       "      <td>155</td>\n",
       "      <td>406</td>\n",
       "      <td>0.381773</td>\n",
       "    </tr>\n",
       "  </tbody>\n",
       "</table>\n",
       "</div>"
      ],
      "text/plain": [
       "                 Field_Goals_Made  Total_Attempts  FGM_Percentage\n",
       "Name                                                             \n",
       "kyle korver                   176             355        0.495775\n",
       "klay thompson                 177             407        0.434889\n",
       "jj redick                     140             329        0.425532\n",
       "stephen curry                 190             456        0.416667\n",
       "kyrie irving                  120             297        0.404040\n",
       "brandon knight                119             300        0.396667\n",
       "danny green                   136             346        0.393064\n",
       "wesley matthews               173             443        0.390519\n",
       "channing frye                 115             299        0.384615\n",
       "james harden                  155             406        0.381773"
      ]
     },
     "execution_count": 51,
     "metadata": {},
     "output_type": "execute_result"
    }
   ],
   "source": [
    "threez.sort_values('FGM_Percentage', ascending=False).iloc[:10]"
   ]
  },
  {
   "cell_type": "markdown",
   "metadata": {},
   "source": [
    "## Most Points Per Attempt"
   ]
  },
  {
   "cell_type": "code",
   "execution_count": 52,
   "metadata": {
    "collapsed": false
   },
   "outputs": [],
   "source": [
    "ppa=df.merge(players,left_on='player_name', right_on='Name', how='left')"
   ]
  },
  {
   "cell_type": "code",
   "execution_count": 53,
   "metadata": {
    "collapsed": true
   },
   "outputs": [],
   "source": [
    "ppa2=ppa.groupby('Name', as_index=False).agg( {'PTS_TYPE':{'Total_Attempts': 'count'},'FGM':{'Field_Goal_Made': 'sum'}, 'PTS': {'Total_Points': 'sum'}, 'TOUCH_TIME': {'Avg_Touch_Time': 'mean'}, 'SHOT_DIST':{ 'Avg_Shot_Dist': 'mean'}})"
   ]
  },
  {
   "cell_type": "code",
   "execution_count": 54,
   "metadata": {
    "collapsed": false
   },
   "outputs": [],
   "source": [
    "ppa2.columns=ppa2.columns.droplevel(0)"
   ]
  },
  {
   "cell_type": "code",
   "execution_count": 55,
   "metadata": {
    "collapsed": false
   },
   "outputs": [],
   "source": [
    "ppa2['Pts_Per_Attempt']=ppa2.Total_Points/ppa2.Total_Attempts"
   ]
  },
  {
   "cell_type": "code",
   "execution_count": 56,
   "metadata": {
    "collapsed": false
   },
   "outputs": [],
   "source": [
    "ppa2.rename(columns = {'':'Name'}, inplace = True)"
   ]
  },
  {
   "cell_type": "markdown",
   "metadata": {},
   "source": [
    "Highest Points Per Attempt Excluding Players < 500 Attempts because want to include only star players. These players contribute more to the game point wise."
   ]
  },
  {
   "cell_type": "code",
   "execution_count": 57,
   "metadata": {
    "collapsed": false
   },
   "outputs": [],
   "source": [
    "ppa3=ppa2.ix[ppa2.Total_Attempts>=500,:].sort_values(by='Pts_Per_Attempt', ascending=False)"
   ]
  },
  {
   "cell_type": "code",
   "execution_count": 58,
   "metadata": {
    "collapsed": false
   },
   "outputs": [
    {
     "data": {
      "text/html": [
       "<div>\n",
       "<table border=\"1\" class=\"dataframe\">\n",
       "  <thead>\n",
       "    <tr style=\"text-align: right;\">\n",
       "      <th></th>\n",
       "      <th>Name</th>\n",
       "      <th>Field_Goal_Made</th>\n",
       "      <th>Total_Attempts</th>\n",
       "      <th>Total_Points</th>\n",
       "      <th>Avg_Shot_Dist</th>\n",
       "      <th>Avg_Touch_Time</th>\n",
       "      <th>Pts_Per_Attempt</th>\n",
       "    </tr>\n",
       "  </thead>\n",
       "  <tbody>\n",
       "    <tr>\n",
       "      <th>247</th>\n",
       "      <td>stephen curry</td>\n",
       "      <td>470</td>\n",
       "      <td>968</td>\n",
       "      <td>1130</td>\n",
       "      <td>17.470455</td>\n",
       "      <td>3.911983</td>\n",
       "      <td>1.167355</td>\n",
       "    </tr>\n",
       "    <tr>\n",
       "      <th>128</th>\n",
       "      <td>jj redick</td>\n",
       "      <td>299</td>\n",
       "      <td>649</td>\n",
       "      <td>738</td>\n",
       "      <td>19.503698</td>\n",
       "      <td>1.423729</td>\n",
       "      <td>1.137134</td>\n",
       "    </tr>\n",
       "    <tr>\n",
       "      <th>276</th>\n",
       "      <td>wesley matthews</td>\n",
       "      <td>336</td>\n",
       "      <td>748</td>\n",
       "      <td>845</td>\n",
       "      <td>18.522193</td>\n",
       "      <td>2.124465</td>\n",
       "      <td>1.129679</td>\n",
       "    </tr>\n",
       "    <tr>\n",
       "      <th>157</th>\n",
       "      <td>klay thompson</td>\n",
       "      <td>449</td>\n",
       "      <td>971</td>\n",
       "      <td>1075</td>\n",
       "      <td>16.790628</td>\n",
       "      <td>2.321730</td>\n",
       "      <td>1.107106</td>\n",
       "    </tr>\n",
       "    <tr>\n",
       "      <th>94</th>\n",
       "      <td>goran dragic</td>\n",
       "      <td>378</td>\n",
       "      <td>753</td>\n",
       "      <td>828</td>\n",
       "      <td>11.740106</td>\n",
       "      <td>3.226959</td>\n",
       "      <td>1.099602</td>\n",
       "    </tr>\n",
       "    <tr>\n",
       "      <th>60</th>\n",
       "      <td>danny green</td>\n",
       "      <td>237</td>\n",
       "      <td>556</td>\n",
       "      <td>610</td>\n",
       "      <td>18.790108</td>\n",
       "      <td>1.463489</td>\n",
       "      <td>1.097122</td>\n",
       "    </tr>\n",
       "    <tr>\n",
       "      <th>3</th>\n",
       "      <td>al horford</td>\n",
       "      <td>387</td>\n",
       "      <td>715</td>\n",
       "      <td>783</td>\n",
       "      <td>11.973566</td>\n",
       "      <td>1.809231</td>\n",
       "      <td>1.095105</td>\n",
       "    </tr>\n",
       "    <tr>\n",
       "      <th>179</th>\n",
       "      <td>marcin gortat</td>\n",
       "      <td>311</td>\n",
       "      <td>570</td>\n",
       "      <td>622</td>\n",
       "      <td>7.375614</td>\n",
       "      <td>1.672105</td>\n",
       "      <td>1.091228</td>\n",
       "    </tr>\n",
       "    <tr>\n",
       "      <th>71</th>\n",
       "      <td>derrick favors</td>\n",
       "      <td>369</td>\n",
       "      <td>677</td>\n",
       "      <td>738</td>\n",
       "      <td>7.729394</td>\n",
       "      <td>1.705465</td>\n",
       "      <td>1.090103</td>\n",
       "    </tr>\n",
       "    <tr>\n",
       "      <th>19</th>\n",
       "      <td>anthony davis</td>\n",
       "      <td>457</td>\n",
       "      <td>841</td>\n",
       "      <td>915</td>\n",
       "      <td>10.406540</td>\n",
       "      <td>1.880499</td>\n",
       "      <td>1.087990</td>\n",
       "    </tr>\n",
       "  </tbody>\n",
       "</table>\n",
       "</div>"
      ],
      "text/plain": [
       "                Name  Field_Goal_Made  Total_Attempts  Total_Points  \\\n",
       "247    stephen curry              470             968          1130   \n",
       "128        jj redick              299             649           738   \n",
       "276  wesley matthews              336             748           845   \n",
       "157    klay thompson              449             971          1075   \n",
       "94      goran dragic              378             753           828   \n",
       "60       danny green              237             556           610   \n",
       "3         al horford              387             715           783   \n",
       "179    marcin gortat              311             570           622   \n",
       "71    derrick favors              369             677           738   \n",
       "19     anthony davis              457             841           915   \n",
       "\n",
       "     Avg_Shot_Dist  Avg_Touch_Time  Pts_Per_Attempt  \n",
       "247      17.470455        3.911983         1.167355  \n",
       "128      19.503698        1.423729         1.137134  \n",
       "276      18.522193        2.124465         1.129679  \n",
       "157      16.790628        2.321730         1.107106  \n",
       "94       11.740106        3.226959         1.099602  \n",
       "60       18.790108        1.463489         1.097122  \n",
       "3        11.973566        1.809231         1.095105  \n",
       "179       7.375614        1.672105         1.091228  \n",
       "71        7.729394        1.705465         1.090103  \n",
       "19       10.406540        1.880499         1.087990  "
      ]
     },
     "execution_count": 58,
     "metadata": {},
     "output_type": "execute_result"
    }
   ],
   "source": [
    "ppa3.iloc[0:10,:]"
   ]
  },
  {
   "cell_type": "code",
   "execution_count": 59,
   "metadata": {
    "collapsed": false,
    "scrolled": true
   },
   "outputs": [
    {
     "data": {
      "text/plain": [
       "0.99266143927373429"
      ]
     },
     "execution_count": 59,
     "metadata": {},
     "output_type": "execute_result"
    }
   ],
   "source": [
    "ppa3.Pts_Per_Attempt.mean()"
   ]
  },
  {
   "cell_type": "markdown",
   "metadata": {},
   "source": [
    "To see average points per attempt per player and to visualize that the mean is around 1."
   ]
  },
  {
   "cell_type": "code",
   "execution_count": 60,
   "metadata": {
    "collapsed": false,
    "scrolled": false
   },
   "outputs": [
    {
     "data": {
      "text/plain": [
       "<seaborn.axisgrid.FacetGrid at 0x12df1d30>"
      ]
     },
     "execution_count": 60,
     "metadata": {},
     "output_type": "execute_result"
    },
    {
     "data": {
      "image/png": "[encoded data removed]",
      "text/plain": [
       "<matplotlib.figure.Figure at 0x12df1748>"
      ]
     },
     "metadata": {},
     "output_type": "display_data"
    }
   ],
   "source": [
    "sns.factorplot(x='Name', y='Pts_Per_Attempt', data=ppa3, kind='point',aspect=4)"
   ]
  },
  {
   "cell_type": "markdown",
   "metadata": {},
   "source": [
    "## Best Defenders"
   ]
  },
  {
   "cell_type": "code",
   "execution_count": 61,
   "metadata": {
    "collapsed": false,
    "scrolled": false
   },
   "outputs": [],
   "source": [
    "defender=ppa.groupby('CLOSEST_DEFENDER').agg({'PTS_TYPE':{'Total_Attempts_Against': 'count'}, 'FGM': {'Made_Shots_Against':'sum'}, 'CLOSE_DEF_DIST': {'Defender_Distance': 'mean'}})"
   ]
  },
  {
   "cell_type": "code",
   "execution_count": 62,
   "metadata": {
    "collapsed": false
   },
   "outputs": [],
   "source": [
    "defender.columns=defender.columns.droplevel(0)"
   ]
  },
  {
   "cell_type": "code",
   "execution_count": 63,
   "metadata": {
    "collapsed": false
   },
   "outputs": [],
   "source": [
    "defender=defender.ix[defender.Total_Attempts_Against>=500,:]"
   ]
  },
  {
   "cell_type": "code",
   "execution_count": 64,
   "metadata": {
    "collapsed": false
   },
   "outputs": [],
   "source": [
    "defender['made_shots_perc']=defender.Made_Shots_Against/defender.Total_Attempts_Against"
   ]
  },
  {
   "cell_type": "code",
   "execution_count": 65,
   "metadata": {
    "collapsed": true
   },
   "outputs": [],
   "source": [
    "defenders=defender.sort_values('made_shots_perc')"
   ]
  },
  {
   "cell_type": "markdown",
   "metadata": {},
   "source": [
    "I am not sure if this dataset is the best to analyze defenders. It is surprising to see some of the players on this list."
   ]
  },
  {
   "cell_type": "code",
   "execution_count": 66,
   "metadata": {
    "collapsed": false
   },
   "outputs": [
    {
     "data": {
      "text/html": [
       "<div>\n",
       "<table border=\"1\" class=\"dataframe\">\n",
       "  <thead>\n",
       "    <tr style=\"text-align: right;\">\n",
       "      <th></th>\n",
       "      <th>Made_Shots_Against</th>\n",
       "      <th>Total_Attempts_Against</th>\n",
       "      <th>Defender_Distance</th>\n",
       "      <th>made_shots_perc</th>\n",
       "    </tr>\n",
       "    <tr>\n",
       "      <th>CLOSEST_DEFENDER</th>\n",
       "      <th></th>\n",
       "      <th></th>\n",
       "      <th></th>\n",
       "      <th></th>\n",
       "    </tr>\n",
       "  </thead>\n",
       "  <tbody>\n",
       "    <tr>\n",
       "      <th>Curry, Stephen</th>\n",
       "      <td>209</td>\n",
       "      <td>527</td>\n",
       "      <td>4.168501</td>\n",
       "      <td>0.396584</td>\n",
       "    </tr>\n",
       "    <tr>\n",
       "      <th>Green, Draymond</th>\n",
       "      <td>301</td>\n",
       "      <td>751</td>\n",
       "      <td>3.790945</td>\n",
       "      <td>0.400799</td>\n",
       "    </tr>\n",
       "    <tr>\n",
       "      <th>Ellis, Monta</th>\n",
       "      <td>226</td>\n",
       "      <td>563</td>\n",
       "      <td>4.453108</td>\n",
       "      <td>0.401421</td>\n",
       "    </tr>\n",
       "    <tr>\n",
       "      <th>Davis, Anthony</th>\n",
       "      <td>247</td>\n",
       "      <td>609</td>\n",
       "      <td>3.947455</td>\n",
       "      <td>0.405583</td>\n",
       "    </tr>\n",
       "    <tr>\n",
       "      <th>Hibbert, Roy</th>\n",
       "      <td>212</td>\n",
       "      <td>517</td>\n",
       "      <td>3.618762</td>\n",
       "      <td>0.410058</td>\n",
       "    </tr>\n",
       "    <tr>\n",
       "      <th>Ibaka, Serge</th>\n",
       "      <td>334</td>\n",
       "      <td>814</td>\n",
       "      <td>4.070639</td>\n",
       "      <td>0.410319</td>\n",
       "    </tr>\n",
       "    <tr>\n",
       "      <th>Batum, Nicolas</th>\n",
       "      <td>215</td>\n",
       "      <td>521</td>\n",
       "      <td>4.033589</td>\n",
       "      <td>0.412668</td>\n",
       "    </tr>\n",
       "    <tr>\n",
       "      <th>Thompson, Klay</th>\n",
       "      <td>215</td>\n",
       "      <td>520</td>\n",
       "      <td>4.341154</td>\n",
       "      <td>0.413462</td>\n",
       "    </tr>\n",
       "    <tr>\n",
       "      <th>Barnes, Matt</th>\n",
       "      <td>236</td>\n",
       "      <td>570</td>\n",
       "      <td>4.525965</td>\n",
       "      <td>0.414035</td>\n",
       "    </tr>\n",
       "    <tr>\n",
       "      <th>Paul, Chris</th>\n",
       "      <td>210</td>\n",
       "      <td>507</td>\n",
       "      <td>4.380079</td>\n",
       "      <td>0.414201</td>\n",
       "    </tr>\n",
       "  </tbody>\n",
       "</table>\n",
       "</div>"
      ],
      "text/plain": [
       "                  Made_Shots_Against  Total_Attempts_Against  \\\n",
       "CLOSEST_DEFENDER                                               \n",
       "Curry, Stephen                   209                     527   \n",
       "Green, Draymond                  301                     751   \n",
       "Ellis, Monta                     226                     563   \n",
       "Davis, Anthony                   247                     609   \n",
       "Hibbert, Roy                     212                     517   \n",
       "Ibaka, Serge                     334                     814   \n",
       "Batum, Nicolas                   215                     521   \n",
       "Thompson, Klay                   215                     520   \n",
       "Barnes, Matt                     236                     570   \n",
       "Paul, Chris                      210                     507   \n",
       "\n",
       "                  Defender_Distance  made_shots_perc  \n",
       "CLOSEST_DEFENDER                                      \n",
       "Curry, Stephen             4.168501         0.396584  \n",
       "Green, Draymond            3.790945         0.400799  \n",
       "Ellis, Monta               4.453108         0.401421  \n",
       "Davis, Anthony             3.947455         0.405583  \n",
       "Hibbert, Roy               3.618762         0.410058  \n",
       "Ibaka, Serge               4.070639         0.410319  \n",
       "Batum, Nicolas             4.033589         0.412668  \n",
       "Thompson, Klay             4.341154         0.413462  \n",
       "Barnes, Matt               4.525965         0.414035  \n",
       "Paul, Chris                4.380079         0.414201  "
      ]
     },
     "execution_count": 66,
     "metadata": {},
     "output_type": "execute_result"
    }
   ],
   "source": [
    "defenders.iloc[:10]"
   ]
  },
  {
   "cell_type": "markdown",
   "metadata": {},
   "source": [
    "## Per Quarter Shot Analysis"
   ]
  },
  {
   "cell_type": "markdown",
   "metadata": {},
   "source": [
    "4 quarters in NBA, 5th to 7th are overtime. Better FGM efficiency and shot attempts made first quarter, then decreases per quarter."
   ]
  },
  {
   "cell_type": "code",
   "execution_count": 67,
   "metadata": {
    "collapsed": false
   },
   "outputs": [
    {
     "data": {
      "text/html": [
       "<div>\n",
       "<table border=\"1\" class=\"dataframe\">\n",
       "  <thead>\n",
       "    <tr>\n",
       "      <th></th>\n",
       "      <th colspan=\"3\" halign=\"left\">FGM</th>\n",
       "    </tr>\n",
       "    <tr>\n",
       "      <th></th>\n",
       "      <th>count</th>\n",
       "      <th>sum</th>\n",
       "      <th>mean</th>\n",
       "    </tr>\n",
       "    <tr>\n",
       "      <th>PERIOD</th>\n",
       "      <th></th>\n",
       "      <th></th>\n",
       "      <th></th>\n",
       "    </tr>\n",
       "  </thead>\n",
       "  <tbody>\n",
       "    <tr>\n",
       "      <th>1</th>\n",
       "      <td>33961</td>\n",
       "      <td>15640</td>\n",
       "      <td>0.460528</td>\n",
       "    </tr>\n",
       "    <tr>\n",
       "      <th>2</th>\n",
       "      <td>31651</td>\n",
       "      <td>14278</td>\n",
       "      <td>0.451107</td>\n",
       "    </tr>\n",
       "    <tr>\n",
       "      <th>3</th>\n",
       "      <td>32211</td>\n",
       "      <td>14725</td>\n",
       "      <td>0.457142</td>\n",
       "    </tr>\n",
       "    <tr>\n",
       "      <th>4</th>\n",
       "      <td>29123</td>\n",
       "      <td>12817</td>\n",
       "      <td>0.440099</td>\n",
       "    </tr>\n",
       "    <tr>\n",
       "      <th>5</th>\n",
       "      <td>912</td>\n",
       "      <td>356</td>\n",
       "      <td>0.390351</td>\n",
       "    </tr>\n",
       "    <tr>\n",
       "      <th>6</th>\n",
       "      <td>168</td>\n",
       "      <td>73</td>\n",
       "      <td>0.434524</td>\n",
       "    </tr>\n",
       "    <tr>\n",
       "      <th>7</th>\n",
       "      <td>43</td>\n",
       "      <td>16</td>\n",
       "      <td>0.372093</td>\n",
       "    </tr>\n",
       "  </tbody>\n",
       "</table>\n",
       "</div>"
      ],
      "text/plain": [
       "          FGM                 \n",
       "        count    sum      mean\n",
       "PERIOD                        \n",
       "1       33961  15640  0.460528\n",
       "2       31651  14278  0.451107\n",
       "3       32211  14725  0.457142\n",
       "4       29123  12817  0.440099\n",
       "5         912    356  0.390351\n",
       "6         168     73  0.434524\n",
       "7          43     16  0.372093"
      ]
     },
     "execution_count": 67,
     "metadata": {},
     "output_type": "execute_result"
    }
   ],
   "source": [
    "df2.groupby('PERIOD').agg( { 'FGM': ['count','sum','mean']})"
   ]
  },
  {
   "cell_type": "code",
   "execution_count": 68,
   "metadata": {
    "collapsed": false,
    "scrolled": true
   },
   "outputs": [
    {
     "data": {
      "text/plain": [
       "<seaborn.axisgrid.FacetGrid at 0x13febf28>"
      ]
     },
     "execution_count": 68,
     "metadata": {},
     "output_type": "execute_result"
    },
    {
     "data": {
      "image/png": "[encoded data removed]",
      "text/plain": [
       "<matplotlib.figure.Figure at 0x13feb8d0>"
      ]
     },
     "metadata": {},
     "output_type": "display_data"
    }
   ],
   "source": [
    "sns.factorplot(x='PERIOD', y='FGM', data=df2, kind='point', aspect=2)"
   ]
  },
  {
   "cell_type": "markdown",
   "metadata": {},
   "source": [
    "## Clutch Shots"
   ]
  },
  {
   "cell_type": "markdown",
   "metadata": {},
   "source": [
    "Rita's Definition of Clutch: Last 2 minutes of 4th quarter with margin to victory of 5 points or less."
   ]
  },
  {
   "cell_type": "markdown",
   "metadata": {},
   "source": [
    "Top 10 Most Made Clutch Shots by Player"
   ]
  },
  {
   "cell_type": "code",
   "execution_count": 69,
   "metadata": {
    "collapsed": false
   },
   "outputs": [
    {
     "data": {
      "text/html": [
       "<div>\n",
       "<table border=\"1\" class=\"dataframe\">\n",
       "  <thead>\n",
       "    <tr style=\"text-align: right;\">\n",
       "      <th></th>\n",
       "      <th>Total_Attempts</th>\n",
       "      <th>Made</th>\n",
       "      <th>FGM_Percentage</th>\n",
       "    </tr>\n",
       "    <tr>\n",
       "      <th>Name</th>\n",
       "      <th></th>\n",
       "      <th></th>\n",
       "      <th></th>\n",
       "    </tr>\n",
       "  </thead>\n",
       "  <tbody>\n",
       "    <tr>\n",
       "      <th>nikola vucevic</th>\n",
       "      <td>36</td>\n",
       "      <td>20</td>\n",
       "      <td>0.555556</td>\n",
       "    </tr>\n",
       "    <tr>\n",
       "      <th>carmelo anthony</th>\n",
       "      <td>45</td>\n",
       "      <td>20</td>\n",
       "      <td>0.444444</td>\n",
       "    </tr>\n",
       "    <tr>\n",
       "      <th>eric bledsoe</th>\n",
       "      <td>37</td>\n",
       "      <td>20</td>\n",
       "      <td>0.540541</td>\n",
       "    </tr>\n",
       "    <tr>\n",
       "      <th>james harden</th>\n",
       "      <td>39</td>\n",
       "      <td>19</td>\n",
       "      <td>0.487179</td>\n",
       "    </tr>\n",
       "    <tr>\n",
       "      <th>monta ellis</th>\n",
       "      <td>44</td>\n",
       "      <td>18</td>\n",
       "      <td>0.409091</td>\n",
       "    </tr>\n",
       "    <tr>\n",
       "      <th>markieff morris</th>\n",
       "      <td>29</td>\n",
       "      <td>18</td>\n",
       "      <td>0.620690</td>\n",
       "    </tr>\n",
       "    <tr>\n",
       "      <th>kentavious caldwell-pope</th>\n",
       "      <td>46</td>\n",
       "      <td>18</td>\n",
       "      <td>0.391304</td>\n",
       "    </tr>\n",
       "    <tr>\n",
       "      <th>gordon hayward</th>\n",
       "      <td>41</td>\n",
       "      <td>18</td>\n",
       "      <td>0.439024</td>\n",
       "    </tr>\n",
       "    <tr>\n",
       "      <th>brandon knight</th>\n",
       "      <td>46</td>\n",
       "      <td>17</td>\n",
       "      <td>0.369565</td>\n",
       "    </tr>\n",
       "    <tr>\n",
       "      <th>dwayne wade</th>\n",
       "      <td>36</td>\n",
       "      <td>17</td>\n",
       "      <td>0.472222</td>\n",
       "    </tr>\n",
       "  </tbody>\n",
       "</table>\n",
       "</div>"
      ],
      "text/plain": [
       "                          Total_Attempts  Made  FGM_Percentage\n",
       "Name                                                          \n",
       "nikola vucevic                        36    20        0.555556\n",
       "carmelo anthony                       45    20        0.444444\n",
       "eric bledsoe                          37    20        0.540541\n",
       "james harden                          39    19        0.487179\n",
       "monta ellis                           44    18        0.409091\n",
       "markieff morris                       29    18        0.620690\n",
       "kentavious caldwell-pope              46    18        0.391304\n",
       "gordon hayward                        41    18        0.439024\n",
       "brandon knight                        46    17        0.369565\n",
       "dwayne wade                           36    17        0.472222"
      ]
     },
     "execution_count": 69,
     "metadata": {},
     "output_type": "execute_result"
    }
   ],
   "source": [
    "clutch=df2.ix[ (df2.clutchfactor==1), :]\n",
    "clutchs=clutch.groupby('Name').agg( {'FGM': {'Total_Attempts': 'count', 'Made':'sum', 'FGM_Percentage':'mean'}})\n",
    "clutchz=clutchs['FGM'].sort_values(by='Made',ascending=False)\n",
    "clutchz.ix[0:10,:]"
   ]
  },
  {
   "cell_type": "markdown",
   "metadata": {},
   "source": [
    "## Shots by Position"
   ]
  },
  {
   "cell_type": "code",
   "execution_count": 70,
   "metadata": {
    "collapsed": false
   },
   "outputs": [
    {
     "data": {
      "text/html": [
       "<div>\n",
       "<table border=\"1\" class=\"dataframe\">\n",
       "  <thead>\n",
       "    <tr style=\"text-align: right;\">\n",
       "      <th></th>\n",
       "      <th>Pos</th>\n",
       "      <th>FGM</th>\n",
       "    </tr>\n",
       "  </thead>\n",
       "  <tbody>\n",
       "    <tr>\n",
       "      <th>0</th>\n",
       "      <td>C</td>\n",
       "      <td>0.511301</td>\n",
       "    </tr>\n",
       "    <tr>\n",
       "      <th>1</th>\n",
       "      <td>PF</td>\n",
       "      <td>0.471230</td>\n",
       "    </tr>\n",
       "    <tr>\n",
       "      <th>2</th>\n",
       "      <td>PG</td>\n",
       "      <td>0.429675</td>\n",
       "    </tr>\n",
       "    <tr>\n",
       "      <th>3</th>\n",
       "      <td>SF</td>\n",
       "      <td>0.435042</td>\n",
       "    </tr>\n",
       "    <tr>\n",
       "      <th>4</th>\n",
       "      <td>SG</td>\n",
       "      <td>0.427817</td>\n",
       "    </tr>\n",
       "  </tbody>\n",
       "</table>\n",
       "</div>"
      ],
      "text/plain": [
       "  Pos       FGM\n",
       "0   C  0.511301\n",
       "1  PF  0.471230\n",
       "2  PG  0.429675\n",
       "3  SF  0.435042\n",
       "4  SG  0.427817"
      ]
     },
     "execution_count": 70,
     "metadata": {},
     "output_type": "execute_result"
    }
   ],
   "source": [
    "df2.groupby('Pos', as_index=False)['FGM'].mean()"
   ]
  },
  {
   "cell_type": "code",
   "execution_count": 71,
   "metadata": {
    "collapsed": false,
    "scrolled": true
   },
   "outputs": [
    {
     "data": {
      "text/plain": [
       "<matplotlib.axes._subplots.AxesSubplot at 0x10b5dfd0>"
      ]
     },
     "execution_count": 71,
     "metadata": {},
     "output_type": "execute_result"
    },
    {
     "data": {
      "image/png": "[encoded data removed]",
      "text/plain": [
       "<matplotlib.figure.Figure at 0xd9c5898>"
      ]
     },
     "metadata": {},
     "output_type": "display_data"
    }
   ],
   "source": [
    "sns.countplot('Pos', data=df2)"
   ]
  },
  {
   "cell_type": "markdown",
   "metadata": {},
   "source": [
    "## Top Rookies"
   ]
  },
  {
   "cell_type": "markdown",
   "metadata": {},
   "source": [
    "I consider rookies as players in their first (R) or second (1) year."
   ]
  },
  {
   "cell_type": "code",
   "execution_count": 72,
   "metadata": {
    "collapsed": false,
    "scrolled": true
   },
   "outputs": [],
   "source": [
    "newbs=ppa.ix[(ppa.Experience=='R') | (ppa.Experience==1),:]"
   ]
  },
  {
   "cell_type": "code",
   "execution_count": 73,
   "metadata": {
    "collapsed": false
   },
   "outputs": [],
   "source": [
    "newbs2=newbs.groupby('Name', as_index=False).agg( {'PTS_TYPE':{'Total_Attempts': 'count'},'FGM':{'Field_Goal_Made': 'sum'}, 'PTS': {'Total_Points': 'sum'}, 'TOUCH_TIME': {'Avg_Touch_Time': 'mean'}, 'SHOT_DIST':{ 'Avg_Shot_Dist': 'mean'}})"
   ]
  },
  {
   "cell_type": "code",
   "execution_count": 74,
   "metadata": {
    "collapsed": false
   },
   "outputs": [],
   "source": [
    "newbs2.columns=newbs2.columns.droplevel(0)"
   ]
  },
  {
   "cell_type": "code",
   "execution_count": 75,
   "metadata": {
    "collapsed": false
   },
   "outputs": [],
   "source": [
    "newbs2['Pts_Per_Attempt']=newbs2.Total_Points/newbs2.Total_Attempts"
   ]
  },
  {
   "cell_type": "code",
   "execution_count": 76,
   "metadata": {
    "collapsed": true
   },
   "outputs": [],
   "source": [
    "newbs2['Field_Goal_Percentage']=newbs2.Field_Goal_Made/newbs2.Total_Attempts"
   ]
  },
  {
   "cell_type": "markdown",
   "metadata": {},
   "source": [
    "Decided to rank them by total attempts because that is correlated to how often they are off the bench."
   ]
  },
  {
   "cell_type": "code",
   "execution_count": 77,
   "metadata": {
    "collapsed": false
   },
   "outputs": [],
   "source": [
    "newbs3=newbs2.sort_values('Total_Attempts', ascending=False)"
   ]
  },
  {
   "cell_type": "code",
   "execution_count": 78,
   "metadata": {
    "collapsed": true
   },
   "outputs": [],
   "source": [
    "newbs3.rename(columns = {'':'Name'}, inplace = True)"
   ]
  },
  {
   "cell_type": "code",
   "execution_count": 79,
   "metadata": {
    "collapsed": false,
    "scrolled": true
   },
   "outputs": [
    {
     "data": {
      "text/html": [
       "<div>\n",
       "<table border=\"1\" class=\"dataframe\">\n",
       "  <thead>\n",
       "    <tr style=\"text-align: right;\">\n",
       "      <th></th>\n",
       "      <th>Name</th>\n",
       "      <th>Field_Goal_Made</th>\n",
       "      <th>Total_Attempts</th>\n",
       "      <th>Total_Points</th>\n",
       "      <th>Avg_Shot_Dist</th>\n",
       "      <th>Avg_Touch_Time</th>\n",
       "      <th>Pts_Per_Attempt</th>\n",
       "      <th>Field_Goal_Percentage</th>\n",
       "    </tr>\n",
       "  </thead>\n",
       "  <tbody>\n",
       "    <tr>\n",
       "      <th>4</th>\n",
       "      <td>andrew wiggins</td>\n",
       "      <td>348</td>\n",
       "      <td>797</td>\n",
       "      <td>730</td>\n",
       "      <td>12.123338</td>\n",
       "      <td>2.311543</td>\n",
       "      <td>0.915935</td>\n",
       "      <td>0.436637</td>\n",
       "    </tr>\n",
       "    <tr>\n",
       "      <th>47</th>\n",
       "      <td>trey burke</td>\n",
       "      <td>294</td>\n",
       "      <td>783</td>\n",
       "      <td>684</td>\n",
       "      <td>16.838953</td>\n",
       "      <td>3.352874</td>\n",
       "      <td>0.873563</td>\n",
       "      <td>0.375479</td>\n",
       "    </tr>\n",
       "    <tr>\n",
       "      <th>48</th>\n",
       "      <td>victor oladipo</td>\n",
       "      <td>328</td>\n",
       "      <td>729</td>\n",
       "      <td>710</td>\n",
       "      <td>11.751989</td>\n",
       "      <td>4.388477</td>\n",
       "      <td>0.973937</td>\n",
       "      <td>0.449931</td>\n",
       "    </tr>\n",
       "    <tr>\n",
       "      <th>24</th>\n",
       "      <td>kentavious caldwell-pope</td>\n",
       "      <td>272</td>\n",
       "      <td>683</td>\n",
       "      <td>659</td>\n",
       "      <td>17.168521</td>\n",
       "      <td>1.972182</td>\n",
       "      <td>0.964861</td>\n",
       "      <td>0.398243</td>\n",
       "    </tr>\n",
       "    <tr>\n",
       "      <th>30</th>\n",
       "      <td>michael carter-williams</td>\n",
       "      <td>253</td>\n",
       "      <td>657</td>\n",
       "      <td>539</td>\n",
       "      <td>12.312481</td>\n",
       "      <td>4.726027</td>\n",
       "      <td>0.820396</td>\n",
       "      <td>0.385084</td>\n",
       "    </tr>\n",
       "  </tbody>\n",
       "</table>\n",
       "</div>"
      ],
      "text/plain": [
       "                        Name  Field_Goal_Made  Total_Attempts  Total_Points  \\\n",
       "4             andrew wiggins              348             797           730   \n",
       "47                trey burke              294             783           684   \n",
       "48            victor oladipo              328             729           710   \n",
       "24  kentavious caldwell-pope              272             683           659   \n",
       "30   michael carter-williams              253             657           539   \n",
       "\n",
       "    Avg_Shot_Dist  Avg_Touch_Time  Pts_Per_Attempt  Field_Goal_Percentage  \n",
       "4       12.123338        2.311543         0.915935               0.436637  \n",
       "47      16.838953        3.352874         0.873563               0.375479  \n",
       "48      11.751989        4.388477         0.973937               0.449931  \n",
       "24      17.168521        1.972182         0.964861               0.398243  \n",
       "30      12.312481        4.726027         0.820396               0.385084  "
      ]
     },
     "execution_count": 79,
     "metadata": {},
     "output_type": "execute_result"
    }
   ],
   "source": [
    "newbs3.iloc[0:5]"
   ]
  },
  {
   "cell_type": "markdown",
   "metadata": {},
   "source": [
    "Looks like Wiggins and Caldwell-Pope accelereated their career after their rookie season:\n",
    "<ul>\n",
    "<li> <b> Andrew Wiggins </b>: Won rookie of the year for 2014-2015 season. Continued playing in Timberwolves the following year with slightly more field goal attempts and increase FG % to 45%. One of the rising stars. </li>\n",
    "<li><b> Trey Burke </b>: During his second season his FG % dropped in the same team. He then went to bench and barely started a game in 2016. Currently sitting on Wizards bench not doing so well.</li>\n",
    "<li><b> Victor Oladipo </b>: Currently playing for OKC and doing pretty well.</li>\n",
    "<li><b> Kentavious Caldwell-Pope </b>: Increased his stats the following year. Currently a starter for the Pistons so he's doing pretty well. </li>\n",
    "<li><b> Michael Carter-Williams </b>: Went onto the Bucks the following year and the Bulls thereafter. He struggled with injuries a couple of times and struggled to come off the bench. </li>"
   ]
  },
  {
   "cell_type": "markdown",
   "metadata": {},
   "source": [
    "## Best Team FGM Efficiency"
   ]
  },
  {
   "cell_type": "code",
   "execution_count": 80,
   "metadata": {
    "collapsed": false
   },
   "outputs": [],
   "source": [
    "bestteam=df2.groupby('Team').agg({'FGM':{'Total_Attempts':'count', 'FGM_Percentage': 'mean'}})"
   ]
  },
  {
   "cell_type": "code",
   "execution_count": 81,
   "metadata": {
    "collapsed": true
   },
   "outputs": [],
   "source": [
    "bestteam.columns=bestteam.columns.droplevel(0)"
   ]
  },
  {
   "cell_type": "markdown",
   "metadata": {},
   "source": [
    "As predicted, Warriors have the highest field goal percentage. This was the year they won the championship."
   ]
  },
  {
   "cell_type": "code",
   "execution_count": 82,
   "metadata": {
    "collapsed": false,
    "scrolled": true
   },
   "outputs": [
    {
     "data": {
      "text/html": [
       "<div>\n",
       "<table border=\"1\" class=\"dataframe\">\n",
       "  <thead>\n",
       "    <tr style=\"text-align: right;\">\n",
       "      <th></th>\n",
       "      <th>Total_Attempts</th>\n",
       "      <th>FGM_Percentage</th>\n",
       "    </tr>\n",
       "    <tr>\n",
       "      <th>Team</th>\n",
       "      <th></th>\n",
       "      <th></th>\n",
       "    </tr>\n",
       "  </thead>\n",
       "  <tbody>\n",
       "    <tr>\n",
       "      <th>GSW</th>\n",
       "      <td>4553</td>\n",
       "      <td>0.479244</td>\n",
       "    </tr>\n",
       "    <tr>\n",
       "      <th>LAC</th>\n",
       "      <td>4841</td>\n",
       "      <td>0.475728</td>\n",
       "    </tr>\n",
       "    <tr>\n",
       "      <th>WAS</th>\n",
       "      <td>4615</td>\n",
       "      <td>0.469556</td>\n",
       "    </tr>\n",
       "    <tr>\n",
       "      <th>NOH</th>\n",
       "      <td>3979</td>\n",
       "      <td>0.469465</td>\n",
       "    </tr>\n",
       "    <tr>\n",
       "      <th>ATL</th>\n",
       "      <td>4544</td>\n",
       "      <td>0.468310</td>\n",
       "    </tr>\n",
       "    <tr>\n",
       "      <th>MEM</th>\n",
       "      <td>4195</td>\n",
       "      <td>0.468176</td>\n",
       "    </tr>\n",
       "    <tr>\n",
       "      <th>CLE</th>\n",
       "      <td>5138</td>\n",
       "      <td>0.462631</td>\n",
       "    </tr>\n",
       "    <tr>\n",
       "      <th>TOR</th>\n",
       "      <td>4370</td>\n",
       "      <td>0.462471</td>\n",
       "    </tr>\n",
       "    <tr>\n",
       "      <th>DAL</th>\n",
       "      <td>4520</td>\n",
       "      <td>0.461062</td>\n",
       "    </tr>\n",
       "    <tr>\n",
       "      <th>ORL</th>\n",
       "      <td>4363</td>\n",
       "      <td>0.460921</td>\n",
       "    </tr>\n",
       "  </tbody>\n",
       "</table>\n",
       "</div>"
      ],
      "text/plain": [
       "      Total_Attempts  FGM_Percentage\n",
       "Team                                \n",
       "GSW             4553        0.479244\n",
       "LAC             4841        0.475728\n",
       "WAS             4615        0.469556\n",
       "NOH             3979        0.469465\n",
       "ATL             4544        0.468310\n",
       "MEM             4195        0.468176\n",
       "CLE             5138        0.462631\n",
       "TOR             4370        0.462471\n",
       "DAL             4520        0.461062\n",
       "ORL             4363        0.460921"
      ]
     },
     "execution_count": 82,
     "metadata": {},
     "output_type": "execute_result"
    }
   ],
   "source": [
    "bestteam.sort_values('FGM_Percentage', ascending=False).iloc[:10]"
   ]
  }
 ],
 "metadata": {
  "kernelspec": {
   "display_name": "Python 2",
   "language": "python",
   "name": "python2"
  },
  "language_info": {
   "codemirror_mode": {
    "name": "ipython",
    "version": 2
   },
   "file_extension": ".py",
   "mimetype": "text/x-python",
   "name": "python",
   "nbconvert_exporter": "python",
   "pygments_lexer": "ipython2",
   "version": "2.7.11"
  }
 },
 "nbformat": 4,
 "nbformat_minor": 0
}
